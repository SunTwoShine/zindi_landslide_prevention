{
 "cells": [
  {
   "cell_type": "markdown",
   "id": "64ad4a59-8c24-493b-983d-fc6c7170289d",
   "metadata": {},
   "source": [
    "# Landslides"
   ]
  },
  {
   "cell_type": "code",
   "execution_count": null,
   "id": "ec179281-2d92-497e-81a7-68efa8d669cd",
   "metadata": {},
   "outputs": [],
   "source": [
    "import pandas as pd\n",
    "import matplotlib.pyplot as plt\n",
    "import seaborn as sns\n",
    "import numpy as np"
   ]
  },
  {
   "cell_type": "code",
   "execution_count": null,
   "id": "d5a2f447-9ce1-4bf9-a98c-92c0962a3266",
   "metadata": {},
   "outputs": [],
   "source": [
    "train = pd.read_csv('data/Train.csv')"
   ]
  },
  {
   "cell_type": "code",
   "execution_count": null,
   "id": "becda4df-392e-41ee-bd14-628be2847323",
   "metadata": {},
   "outputs": [],
   "source": [
    "train.head()"
   ]
  },
  {
   "cell_type": "code",
   "execution_count": null,
   "id": "48feaab0-d33f-4fe8-bbd6-cf9580eacc42",
   "metadata": {},
   "outputs": [],
   "source": [
    "train.info()"
   ]
  },
  {
   "cell_type": "code",
   "execution_count": null,
   "id": "05e1e2c1-2e1e-468f-a68f-3b71a4fe1344",
   "metadata": {},
   "outputs": [],
   "source": [
    "train.isna().sum().sum()"
   ]
  },
  {
   "cell_type": "code",
   "execution_count": null,
   "id": "c4e33512-aea6-457d-bdca-f23aef66ae79",
   "metadata": {},
   "outputs": [],
   "source": [
    "train['Label'].value_counts()"
   ]
  },
  {
   "cell_type": "markdown",
   "id": "df8507bf-fbce-47a0-ae65-05acb0b552ac",
   "metadata": {},
   "source": [
    "## Overview plots"
   ]
  },
  {
   "cell_type": "code",
   "execution_count": null,
   "id": "34376056-1c0b-4c94-ba94-700422305833",
   "metadata": {},
   "outputs": [],
   "source": [
    "def plot4positions(feature, position, title, xlim, ylim, xlabel, ylabel, bin_number=40):\n",
    "    fig, axs = plt.subplots(2, 2)\n",
    "    i=0\n",
    "    for a in range(2):\n",
    "        for b in range(2):\n",
    "            axs[a,b].hist(x = train[str(position[i])+'_'+feature], bins = bin_number)\n",
    "            axs[a,b].set_xlim(xlim)\n",
    "            axs[a,b].set_ylim(ylim)\n",
    "            if a == 1:\n",
    "                axs[a,b].set_xlabel(xlabel)\n",
    "            if b == 0:\n",
    "                axs[a,b].set_ylabel(ylabel)\n",
    "            i+=1\n",
    "    plt.suptitle(title);"
   ]
  },
  {
   "cell_type": "code",
   "execution_count": null,
   "id": "67a11dce-9d60-4dfa-83ec-4cd5fa4d0925",
   "metadata": {},
   "outputs": [],
   "source": [
    "position = [1, 8, 15, 23]"
   ]
  },
  {
   "cell_type": "code",
   "execution_count": null,
   "id": "a14f130a-2faf-4a35-89b4-1924c1fc8498",
   "metadata": {},
   "outputs": [],
   "source": [
    "title='Digital elevation of the terrain surface in meter'\n",
    "xlim = [0,1000]\n",
    "ylim = [0,900]\n",
    "xlabel='elevation in m'\n",
    "ylabel='count'\n",
    "plot4positions(feature='elevation',position=position, title=title, xlim=xlim, ylim=ylim, xlabel=xlabel, ylabel=ylabel)"
   ]
  },
  {
   "cell_type": "code",
   "execution_count": null,
   "id": "74302820-8613-4493-b118-9bee1ebe8922",
   "metadata": {},
   "outputs": [],
   "source": [
    "fig, axs = plt.subplots(2, 2)\n",
    "axs[0,0].hist(x = train['1_slope'], bins = 40)\n",
    "axs[0,1].hist(x = train['8_slope'], bins = 40)\n",
    "axs[1,0].hist(x = train['15_slope'], bins = 40)\n",
    "axs[1,1].hist(x = train['23_slope'], bins = 40)\n",
    "plt.suptitle('Angle of the slope inclination in degree');"
   ]
  },
  {
   "cell_type": "code",
   "execution_count": null,
   "id": "c0d25d67-27e3-48da-b2cc-34ae4a4b9e5d",
   "metadata": {},
   "outputs": [],
   "source": [
    "# plt.hist(x = train['1_aspect'], bins = 40)\n",
    "fig, axs = plt.subplots(2, 2)\n",
    "axs[0,0].hist(x = train['1_aspect'], bins = 40)\n",
    "axs[0,1].hist(x = train['8_aspect'], bins = 40)\n",
    "axs[1,0].hist(x = train['15_aspect'], bins = 40)\n",
    "axs[1,1].hist(x = train['23_aspect'], bins = 40)\n",
    "plt.suptitle('Exposition of the slope in degree');"
   ]
  },
  {
   "cell_type": "code",
   "execution_count": null,
   "id": "8117c3b3-2db7-458b-876a-41441fa5deb9",
   "metadata": {},
   "outputs": [],
   "source": [
    "# plt.hist(x = train['1_placurv'], bins = 40)\n",
    "fig, axs = plt.subplots(2, 2)\n",
    "axs[0,0].hist(x = train['1_placurv'], bins = 40)\n",
    "axs[0,1].hist(x = train['8_placurv'], bins = 40)\n",
    "axs[1,0].hist(x = train['15_placurv'], bins = 40)\n",
    "axs[1,1].hist(x = train['23_placurv'], bins = 40)\n",
    "plt.suptitle('Planform curvature');"
   ]
  },
  {
   "cell_type": "code",
   "execution_count": null,
   "id": "e93b1a62-5a48-455a-ac92-0e11ebd12197",
   "metadata": {},
   "outputs": [],
   "source": [
    "# plt.hist(x = train['1_procurv'], bins = 40)\n",
    "fig, axs = plt.subplots(2, 2)\n",
    "axs[0,0].hist(x = train['1_procurv'], bins = 40)\n",
    "axs[0,1].hist(x = train['8_procurv'], bins = 40)\n",
    "axs[1,0].hist(x = train['15_procurv'], bins = 40)\n",
    "axs[1,1].hist(x = train['23_procurv'], bins = 40)\n",
    "plt.suptitle('Profile curvature');"
   ]
  },
  {
   "cell_type": "code",
   "execution_count": null,
   "id": "bfebe53d-4a71-4d23-b1de-164e0596e9d1",
   "metadata": {},
   "outputs": [],
   "source": [
    "# plt.hist(x = train['1_lsfactor'], bins = 40)\n",
    "fig, axs = plt.subplots(2, 2)\n",
    "axs[0,0].hist(x = train['1_lsfactor'], bins = 40)\n",
    "axs[0,1].hist(x = train['8_lsfactor'], bins = 40)\n",
    "axs[1,0].hist(x = train['15_lsfactor'], bins = 40)\n",
    "axs[1,1].hist(x = train['23_lsfactor'], bins = 40)\n",
    "plt.suptitle('Length-slope factor');"
   ]
  },
  {
   "cell_type": "code",
   "execution_count": null,
   "id": "e9e724e3-19a2-4b77-900e-1b4cce7d674d",
   "metadata": {},
   "outputs": [],
   "source": [
    "# plt.hist(x = train['1_twi'], bins = 40)\n",
    "fig, axs = plt.subplots(2, 2)\n",
    "axs[0,0].hist(x = train['1_twi'], bins = 40)\n",
    "axs[0,1].hist(x = train['8_twi'], bins = 40)\n",
    "axs[1,0].hist(x = train['15_twi'], bins = 40)\n",
    "axs[1,1].hist(x = train['23_twi'], bins = 40)\n",
    "plt.suptitle('Topographic wetness index');"
   ]
  },
  {
   "cell_type": "code",
   "execution_count": null,
   "id": "43f397cd-4b6f-4fae-87db-dc1d32cd71a7",
   "metadata": {},
   "outputs": [],
   "source": [
    "# plt.hist(x = train['1_geology'], bins = 40)\n",
    "fig, axs = plt.subplots(2, 2)\n",
    "axs[0,0].hist(x = train['1_geology'], bins = 40)\n",
    "axs[0,1].hist(x = train['8_geology'], bins = 40)\n",
    "axs[1,0].hist(x = train['15_geology'], bins = 40)\n",
    "axs[1,1].hist(x = train['23_geology'], bins = 40)\n",
    "plt.suptitle('Lithology of the surface material');"
   ]
  },
  {
   "cell_type": "code",
   "execution_count": null,
   "id": "bc7349b8-2b20-4489-8482-e99b28691108",
   "metadata": {},
   "outputs": [],
   "source": [
    "# plt.hist(x = train['1_sdoif'], bins = 40)\n",
    "fig, axs = plt.subplots(2, 2)\n",
    "axs[0,0].hist(x = train['1_sdoif'], bins = 40)\n",
    "axs[0,1].hist(x = train['8_sdoif'], bins = 40)\n",
    "axs[1,0].hist(x = train['15_sdoif'], bins = 40)\n",
    "axs[1,1].hist(x = train['23_sdoif'], bins = 40)\n",
    "plt.suptitle('Step duration orographic intensification factor');"
   ]
  },
  {
   "cell_type": "code",
   "execution_count": null,
   "id": "c7e7c112-592e-4338-94bf-0bf91c9e849d",
   "metadata": {},
   "outputs": [],
   "source": [
    "geology = pd.DataFrame()\n",
    "for i in range(25):\n",
    "    geology[f'{i+1}_geology'] = train[f'{i+1}_geology'].value_counts()\n",
    "geology.T.describe()"
   ]
  },
  {
   "cell_type": "code",
   "execution_count": null,
   "id": "4f80d425-e4f6-4e6a-a8eb-458491710d04",
   "metadata": {},
   "outputs": [],
   "source": [
    "sns.set(rc={'figure.figsize':(11,8)})"
   ]
  },
  {
   "cell_type": "code",
   "execution_count": null,
   "id": "278d6e0a-0714-41fa-aec6-969eb7439247",
   "metadata": {},
   "outputs": [],
   "source": [
    "fig, axs = plt.subplots(3, 3)\n",
    "\n",
    "sns.histplot(data=train, x=\"1_elevation\", hue=\"Label\", ax=axs[0,0], element=\"step\", fill=False)\n",
    "sns.histplot(train, x=\"1_slope\", hue=\"Label\", ax=axs[0,1], element=\"step\", fill=False, legend=False)\n",
    "sns.histplot(train, x=\"1_aspect\", hue=\"Label\", ax=axs[0,2], element=\"step\", fill=False, legend=False)\n",
    "sns.histplot(train, x=\"1_placurv\", hue=\"Label\", ax=axs[1,0], element=\"step\", fill=False, legend=False)\n",
    "sns.histplot(train, x=\"1_procurv\", hue=\"Label\", ax=axs[1,1], element=\"step\", fill=False, legend=False)\n",
    "sns.histplot(train, x=\"1_lsfactor\", hue=\"Label\", ax=axs[1,2], element=\"step\", fill=False, legend=False)\n",
    "sns.histplot(train, x=\"1_twi\", hue=\"Label\", ax=axs[2,0], element=\"step\", fill=False, legend=False, log_scale=True)\n",
    "sns.histplot(train, x=\"1_geology\", hue=\"Label\", ax=axs[2,1], multiple=\"dodge\", element=\"step\", fill=False, legend=False)\n",
    "sns.histplot(train, x=\"1_sdoif\", hue=\"Label\", ax=axs[2,2], element=\"step\", fill=False, legend=False)\n",
    "\n",
    "fig.tight_layout()\n",
    "plt.show()"
   ]
  },
  {
   "cell_type": "code",
   "execution_count": null,
   "id": "7595e35f-37ac-4e1d-bdc7-3bebd4d81452",
   "metadata": {},
   "outputs": [],
   "source": [
    "sns.set(rc={'figure.figsize':(7,10)})"
   ]
  },
  {
   "cell_type": "code",
   "execution_count": null,
   "id": "4a9c5332-3853-449b-bf21-92e868d5ffb3",
   "metadata": {},
   "outputs": [],
   "source": [
    "fig, axs = plt.subplots(4, 2)\n",
    "sns.kdeplot(data=train, x=\"1_slope\", y=\"1_elevation\", hue=\"Label\", ax=axs[0,0]);\n",
    "sns.kdeplot(data=train, x=\"1_aspect\", y=\"1_elevation\", hue=\"Label\", ax=axs[0,1], legend=False)\n",
    "sns.kdeplot(data=train, x=\"1_placurv\", y=\"1_elevation\", hue=\"Label\", ax=axs[1,0], legend=False)\n",
    "sns.kdeplot(data=train, x=\"1_procurv\", y=\"1_elevation\", hue=\"Label\", ax=axs[1,1], legend=False)\n",
    "sns.kdeplot(data=train, x=\"1_lsfactor\", y=\"1_elevation\", hue=\"Label\", ax=axs[2,0], legend=False)\n",
    "sns.kdeplot(data=train, x=\"1_twi\", y=\"1_elevation\", hue=\"Label\", ax=axs[2,1], legend=False)\n",
    "sns.kdeplot(data=train, x=\"1_geology\", y=\"1_elevation\", hue=\"Label\", ax=axs[3,0], legend=False)\n",
    "sns.kdeplot(data=train, x=\"1_sdoif\", y=\"1_elevation\", hue=\"Label\", ax=axs[3,1], legend=False)\n",
    "\n",
    "fig.tight_layout()\n",
    "plt.show()"
   ]
  },
  {
   "cell_type": "code",
   "execution_count": null,
   "id": "54caafa6-f287-434b-a6ac-0552f9254b47",
   "metadata": {},
   "outputs": [],
   "source": [
    "fig, axs = plt.subplots(4, 2)\n",
    "sns.kdeplot(data=train, x=\"1_aspect\", y=\"1_slope\", hue=\"Label\", ax=axs[0,1])\n",
    "sns.kdeplot(data=train, x=\"1_placurv\", y=\"1_slope\", hue=\"Label\", ax=axs[1,0], legend=False)\n",
    "sns.kdeplot(data=train, x=\"1_procurv\", y=\"1_slope\", hue=\"Label\", ax=axs[1,1], legend=False)\n",
    "sns.kdeplot(data=train, x=\"1_lsfactor\", y=\"1_slope\", hue=\"Label\", ax=axs[2,0], legend=False)\n",
    "sns.kdeplot(data=train, x=\"1_twi\", y=\"1_slope\", hue=\"Label\", ax=axs[2,1], legend=False)\n",
    "sns.kdeplot(data=train, x=\"1_geology\", y=\"1_slope\", hue=\"Label\", ax=axs[3,0], legend=False)\n",
    "sns.kdeplot(data=train, x=\"1_sdoif\", y=\"1_slope\", hue=\"Label\", ax=axs[3,1], legend=False)\n",
    "\n",
    "fig.tight_layout()\n",
    "plt.show()"
   ]
  },
  {
   "cell_type": "code",
   "execution_count": null,
   "id": "735030cb-7546-4f67-bb49-4817e7bdbfa6",
   "metadata": {},
   "outputs": [],
   "source": [
    "fig, axs = plt.subplots(3, 2)\n",
    "sns.kdeplot(data=train, x=\"1_placurv\", y=\"1_aspect\", hue=\"Label\", ax=axs[0,0])\n",
    "sns.kdeplot(data=train, x=\"1_procurv\", y=\"1_aspect\", hue=\"Label\", ax=axs[0,1], legend=False)\n",
    "sns.kdeplot(data=train, x=\"1_lsfactor\", y=\"1_aspect\", hue=\"Label\", ax=axs[1,0], legend=False)\n",
    "sns.kdeplot(data=train, x=\"1_twi\", y=\"1_aspect\", hue=\"Label\", ax=axs[1,1], legend=False)\n",
    "sns.kdeplot(data=train, x=\"1_geology\", y=\"1_aspect\", hue=\"Label\", ax=axs[2,0], legend=False)\n",
    "sns.kdeplot(data=train, x=\"1_sdoif\", y=\"1_aspect\", hue=\"Label\", ax=axs[2,1], legend=False)\n",
    "\n",
    "fig.tight_layout()\n",
    "plt.show()"
   ]
  },
  {
   "cell_type": "code",
   "execution_count": null,
   "id": "2845254d-87aa-4f29-a616-caec1a4caaac",
   "metadata": {},
   "outputs": [],
   "source": [
    "fig, axs = plt.subplots(3, 2)\n",
    "sns.kdeplot(data=train, x=\"1_procurv\", y=\"1_placurv\", hue=\"Label\", ax=axs[0,1])\n",
    "sns.kdeplot(data=train, x=\"1_lsfactor\", y=\"1_placurv\", hue=\"Label\", ax=axs[1,0], legend=False)\n",
    "sns.kdeplot(data=train, x=\"1_twi\", y=\"1_placurv\", hue=\"Label\", ax=axs[1,1], legend=False)\n",
    "sns.kdeplot(data=train, x=\"1_geology\", y=\"1_placurv\", hue=\"Label\", ax=axs[2,0], legend=False)\n",
    "sns.kdeplot(data=train, x=\"1_sdoif\", y=\"1_placurv\", hue=\"Label\", ax=axs[2,1], legend=False)\n",
    "\n",
    "fig.tight_layout()\n",
    "plt.show()"
   ]
  },
  {
   "cell_type": "code",
   "execution_count": null,
   "id": "8fc24f48-f314-4f70-8b27-7a438ae99a85",
   "metadata": {},
   "outputs": [],
   "source": [
    "fig, axs = plt.subplots(2, 2)\n",
    "sns.kdeplot(data=train, x=\"1_lsfactor\", y=\"1_procurv\", hue=\"Label\", ax=axs[0,0])\n",
    "sns.kdeplot(data=train, x=\"1_twi\", y=\"1_procurv\", hue=\"Label\", ax=axs[0,1], legend=False)\n",
    "sns.kdeplot(data=train, x=\"1_geology\", y=\"1_procurv\", hue=\"Label\", ax=axs[1,0], legend=False)\n",
    "sns.kdeplot(data=train, x=\"1_sdoif\", y=\"1_procurv\", hue=\"Label\", ax=axs[1,1], legend=False)\n",
    "\n",
    "fig.tight_layout()\n",
    "plt.show()"
   ]
  },
  {
   "cell_type": "code",
   "execution_count": null,
   "id": "c30c779d-88ed-47f9-84fd-461547353892",
   "metadata": {},
   "outputs": [],
   "source": [
    "fig, axs = plt.subplots(2, 2)\n",
    "sns.kdeplot(data=train, x=\"1_twi\", y=\"1_lsfactor\", hue=\"Label\", ax=axs[0,1])\n",
    "sns.kdeplot(data=train, x=\"1_geology\", y=\"1_lsfactor\", hue=\"Label\", ax=axs[1,0], legend=False)\n",
    "sns.kdeplot(data=train, x=\"1_sdoif\", y=\"1_lsfactor\", hue=\"Label\", ax=axs[1,1], legend=False)\n",
    "\n",
    "fig.tight_layout()\n",
    "plt.show()"
   ]
  },
  {
   "cell_type": "code",
   "execution_count": null,
   "id": "a02ec784-7efc-442f-9732-8e5e1b13cc6d",
   "metadata": {},
   "outputs": [],
   "source": [
    "fig, axs = plt.subplots(2, 2)\n",
    "sns.kdeplot(data=train, x=\"1_geology\", y=\"1_twi\", hue=\"Label\", ax=axs[0,0])\n",
    "sns.kdeplot(data=train, x=\"1_sdoif\", y=\"1_twi\", hue=\"Label\", ax=axs[0,1], legend=False)\n",
    "sns.kdeplot(data=train, x=\"1_sdoif\", y=\"1_geology\", hue=\"Label\", ax=axs[1,1], legend=False)\n",
    "fig.tight_layout()\n",
    "plt.show()"
   ]
  },
  {
   "cell_type": "code",
   "execution_count": null,
   "id": "2ad81be2-89ac-4bef-8df0-73ca4a46c9da",
   "metadata": {},
   "outputs": [],
   "source": []
  }
 ],
 "metadata": {
  "kernelspec": {
   "display_name": "Python 3 (ipykernel)",
   "language": "python",
   "name": "python3"
  },
  "language_info": {
   "codemirror_mode": {
    "name": "ipython",
    "version": 3
   },
   "file_extension": ".py",
   "mimetype": "text/x-python",
   "name": "python",
   "nbconvert_exporter": "python",
   "pygments_lexer": "ipython3",
   "version": "3.9.4"
  }
 },
 "nbformat": 4,
 "nbformat_minor": 5
}
