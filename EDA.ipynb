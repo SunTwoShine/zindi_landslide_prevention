{
 "cells": [
  {
   "cell_type": "markdown",
   "id": "64ad4a59-8c24-493b-983d-fc6c7170289d",
   "metadata": {},
   "source": [
    "# Landslides"
   ]
  },
  {
   "cell_type": "code",
   "execution_count": null,
   "id": "ec179281-2d92-497e-81a7-68efa8d669cd",
   "metadata": {},
   "outputs": [],
   "source": [
    "import pandas as pd\n",
    "import matplotlib.pyplot as plt\n",
    "import seaborn as sns\n",
    "import numpy as np"
   ]
  },
  {
   "cell_type": "code",
   "execution_count": null,
   "id": "d5a2f447-9ce1-4bf9-a98c-92c0962a3266",
   "metadata": {},
   "outputs": [],
   "source": [
    "train = pd.read_csv('data/Train.csv')"
   ]
  },
  {
   "cell_type": "code",
   "execution_count": null,
   "id": "becda4df-392e-41ee-bd14-628be2847323",
   "metadata": {},
   "outputs": [],
   "source": [
    "# Show data\n",
    "train.head()"
   ]
  },
  {
   "cell_type": "code",
   "execution_count": null,
   "id": "48feaab0-d33f-4fe8-bbd6-cf9580eacc42",
   "metadata": {},
   "outputs": [],
   "source": [
    "train.info()"
   ]
  },
  {
   "cell_type": "code",
   "execution_count": null,
   "id": "05e1e2c1-2e1e-468f-a68f-3b71a4fe1344",
   "metadata": {},
   "outputs": [],
   "source": [
    "# Check for missing values\n",
    "train.isna().sum().sum()\n",
    "# No missing values"
   ]
  },
  {
   "cell_type": "code",
   "execution_count": null,
   "id": "3b223d03-afc1-44dd-be97-43feafe77aa4",
   "metadata": {},
   "outputs": [],
   "source": [
    "# Check for duplicates\n",
    "train.duplicated().any()\n",
    "# No duplicates"
   ]
  },
  {
   "cell_type": "code",
   "execution_count": null,
   "id": "c4e33512-aea6-457d-bdca-f23aef66ae79",
   "metadata": {},
   "outputs": [],
   "source": [
    "# Distribution of target value\n",
    "train['Label'].value_counts(normalize=True)\n",
    "# unbalanced dataset has to be considered"
   ]
  },
  {
   "cell_type": "markdown",
   "id": "df8507bf-fbce-47a0-ae65-05acb0b552ac",
   "metadata": {},
   "source": [
    "## Overview plots"
   ]
  },
  {
   "cell_type": "code",
   "execution_count": null,
   "id": "d5417f5f-e35a-46d3-a942-d4f13ba017c9",
   "metadata": {},
   "outputs": [],
   "source": [
    "def feature_pair_plot(feature, position, title, plotkind):\n",
    "    \"\"\"\n",
    "    Creates a seaborn-pairplot for several positions of the same feature.\n",
    "    \n",
    "    feature: name of the feature-column without number and underscore\n",
    "    position: list of positions of the measured fields, 13 is the central position with a possible landslide\n",
    "    title: Superior title of the diagram\n",
    "    plotkind: kind of plot of the comparison plots. Possible values: 'scatter', 'kde', 'hist', 'reg'\n",
    "    \"\"\"\n",
    "    feature_cols=[]\n",
    "    for i in position:\n",
    "        feature_cols.append(str(i)+'_'+feature)\n",
    "    plt.figure()\n",
    "    sns.pairplot(train[feature_cols], kind=plotkind)\n",
    "    plt.suptitle(title, y=1.01)\n",
    "    plt.show()"
   ]
  },
  {
   "cell_type": "code",
   "execution_count": null,
   "id": "67a11dce-9d60-4dfa-83ec-4cd5fa4d0925",
   "metadata": {},
   "outputs": [],
   "source": [
    "# Corner, middle and adjescent to middle positions\n",
    "# 1 6  11 16 21\n",
    "# 2 7  12 17 22\n",
    "# 3 8  13 18 23\n",
    "# 4 9  14 19 24\n",
    "# 5 10 15 20 25\n",
    "\n",
    "position = [1, 17, 13, 9, 25]"
   ]
  },
  {
   "cell_type": "code",
   "execution_count": null,
   "id": "0a6d8c6d-6d10-4bc9-bb9d-963050cd5745",
   "metadata": {},
   "outputs": [],
   "source": [
    "title='Digital elevation of the terrain surface in meter'\n",
    "feature_pair_plot(feature='elevation', position=position, title=title, plotkind='hist')\n",
    "\n",
    "# perfect correlation between different locations"
   ]
  },
  {
   "cell_type": "code",
   "execution_count": null,
   "id": "3e127830-5491-404f-bbda-77ee39551387",
   "metadata": {},
   "outputs": [],
   "source": [
    "title='Angle of the slope inclination in degree'\n",
    "feature_pair_plot(feature='slope', position=position, title=title, plotkind='hist')\n",
    "\n",
    "# Slope varies a lot in these 25 x 25 m² samples\n",
    "# Positions closer together vary less"
   ]
  },
  {
   "cell_type": "code",
   "execution_count": null,
   "id": "4d62ef33-afb0-4f9d-83c5-b1153812c764",
   "metadata": {},
   "outputs": [],
   "source": [
    "title='Exposition of the slope in degree'\n",
    "feature_pair_plot(feature='aspect', position=position, title=title, plotkind='hist')\n",
    "\n",
    "# High values in far edges due to circular behavior of the feature. \n",
    "# Tansformation of the feature to take this into account is needed.\n",
    "# Most aspects are close to each other though"
   ]
  },
  {
   "cell_type": "code",
   "execution_count": null,
   "id": "d3322750-0420-4315-af95-bbff77735939",
   "metadata": {},
   "outputs": [],
   "source": [
    "title='Planform curvature'\n",
    "feature_pair_plot(feature='placurv', position=position, title=title, plotkind='hist')\n",
    "\n",
    "# no correlation between far away positions\n",
    "# positions closer together are still quite similar"
   ]
  },
  {
   "cell_type": "code",
   "execution_count": null,
   "id": "a94e125c-41c1-4cc9-9e72-e4843ec77031",
   "metadata": {},
   "outputs": [],
   "source": [
    "title='Profile curvature'\n",
    "feature_pair_plot(feature='procurv', position=position, title=title, plotkind='hist')\n",
    "\n",
    "# no correlation between far away positions\n",
    "# positions closer together are still quite similar"
   ]
  },
  {
   "cell_type": "code",
   "execution_count": null,
   "id": "53910293-d556-47aa-98a8-f804488f6f66",
   "metadata": {},
   "outputs": [],
   "source": [
    "title='Length-slope factor'\n",
    "feature_pair_plot(feature='lsfactor', position=position, title=title, plotkind='hist')\n",
    "\n",
    "# some correlations throughout, but a lot more for close positions"
   ]
  },
  {
   "cell_type": "code",
   "execution_count": null,
   "id": "5577b12e-4003-47b9-850e-6d873f202e4e",
   "metadata": {},
   "outputs": [],
   "source": [
    "title='Topographic wetness index'\n",
    "feature_pair_plot(feature='twi', position=position, title=title, plotkind='hist')\n",
    "\n",
    "# Highly skewed\n",
    "# Logarithmic transformation should help"
   ]
  },
  {
   "cell_type": "code",
   "execution_count": null,
   "id": "6df4983f-9355-426c-ad5e-8b7e834b4e34",
   "metadata": {},
   "outputs": [],
   "source": [
    "title='Lithology of the surface material'\n",
    "feature_pair_plot(feature='geology', position=position, title=title, plotkind='kde')\n",
    "\n",
    "# soil material differs in the area\n",
    "# it is mostly jurassic tuff and lava"
   ]
  },
  {
   "cell_type": "code",
   "execution_count": null,
   "id": "69ac41d0-61c5-4fd4-b6fb-4a6d73967148",
   "metadata": {},
   "outputs": [],
   "source": [
    "title='Step duration orographic intensification factor'\n",
    "feature_pair_plot(feature='sdoif', position=position, title=title, plotkind='hist')\n",
    "\n",
    "# perfect correlation all over"
   ]
  },
  {
   "cell_type": "markdown",
   "id": "fe1ea021-fbbb-410f-b1cc-26620be1bc1c",
   "metadata": {},
   "source": [
    "## Feature Engineering"
   ]
  },
  {
   "cell_type": "code",
   "execution_count": null,
   "id": "290b9e49-48a2-44c4-987b-39e6b8185313",
   "metadata": {},
   "outputs": [],
   "source": [
    "# log-transform of columns\n",
    "def log_transform(df, column):\n",
    "    for col in df.columns:\n",
    "        if column in col:\n",
    "            result = np.where(df[col]>1.0e-5, df[col], 1.0e-5)\n",
    "            df[col+'_log'] = np.log(result)"
   ]
  },
  {
   "cell_type": "code",
   "execution_count": null,
   "id": "6bc2fa73-b4cc-4daa-8b7f-7e74380296a6",
   "metadata": {},
   "outputs": [],
   "source": [
    "log_transform(train, 'twi')"
   ]
  },
  {
   "cell_type": "code",
   "execution_count": null,
   "id": "0e4c7fea-17b0-4301-bd17-94198dca314a",
   "metadata": {},
   "outputs": [],
   "source": [
    "title='Topographic wetness index'\n",
    "feature_pair_plot(feature='twi_log', position=position, title=title, plotkind='hist')\n",
    "\n",
    "# no correlation between far away positions\n",
    "# positions closer together are still quite similar"
   ]
  },
  {
   "cell_type": "code",
   "execution_count": null,
   "id": "3c2faf75-067a-4fee-b923-e3dfdd7c521a",
   "metadata": {},
   "outputs": [],
   "source": [
    "# sine/cosine of angle-columns\n",
    "def angle_transform(df, column):\n",
    "    for col in df.columns:\n",
    "        if column in col:\n",
    "            df[col+'_sin'] = np.sin(np.deg2rad(df[col]))\n",
    "            df[col+'_cos'] = np.cos(np.deg2rad(df[col]))"
   ]
  },
  {
   "cell_type": "code",
   "execution_count": null,
   "id": "2345059c-d782-4f7e-92ac-8db0a81fee83",
   "metadata": {},
   "outputs": [],
   "source": [
    "angle_transform(train, 'aspect')"
   ]
  },
  {
   "cell_type": "code",
   "execution_count": null,
   "id": "dec632b2-8dc2-4848-b692-edfd37b50054",
   "metadata": {},
   "outputs": [],
   "source": [
    "feature_cols1=[]\n",
    "feature1='aspect_sin'\n",
    "for i in position:\n",
    "    feature_cols1.append(str(i)+'_'+feature1)\n",
    "\n",
    "feature_cols2=[]\n",
    "feature2='aspect_cos'\n",
    "for i in position:\n",
    "    feature_cols2.append(str(i)+'_'+feature2)\n",
    "\n",
    "plt.figure()\n",
    "sns.pairplot(train, x_vars=feature_cols1, y_vars=feature_cols2, kind='hist')\n",
    "plt.suptitle('aspect cos/sin-trans', y=1.01)\n",
    "plt.show()\n",
    "\n",
    "#Perfect correlation will show a circle"
   ]
  },
  {
   "cell_type": "markdown",
   "id": "67e56205-dc23-466d-a889-ea28c82f0171",
   "metadata": {},
   "source": [
    "## Geology Distribution"
   ]
  },
  {
   "cell_type": "code",
   "execution_count": null,
   "id": "c7e7c112-592e-4338-94bf-0bf91c9e849d",
   "metadata": {},
   "outputs": [],
   "source": [
    "geology = pd.DataFrame()\n",
    "for i in range(25):\n",
    "    geology[f'{i+1}_geology'] = train[f'{i+1}_geology'].value_counts()\n",
    "geology.T.describe()\n",
    "\n",
    "# mostly jurassic tuff and lava\n",
    "# rarest material is fill\n",
    "# very little variation between the materials"
   ]
  },
  {
   "cell_type": "markdown",
   "id": "677016b0-1ff6-40a9-a3a6-8bf06e36fa25",
   "metadata": {},
   "source": [
    "## Dependence of target on feature distribution"
   ]
  },
  {
   "cell_type": "code",
   "execution_count": null,
   "id": "278d6e0a-0714-41fa-aec6-969eb7439247",
   "metadata": {},
   "outputs": [],
   "source": [
    "fig, axs = plt.subplots(3, 3, figsize = (13, 10))\n",
    "\n",
    "sns.histplot(data=train, x=\"1_elevation\", hue=\"Label\", ax=axs[0,0], element=\"step\", fill=False)\n",
    "sns.histplot(train, x=\"1_slope\", hue=\"Label\", ax=axs[0,1], element=\"step\", fill=False, legend=False)\n",
    "sns.histplot(train, x=\"1_aspect\", hue=\"Label\", ax=axs[0,2], element=\"step\", fill=False, legend=False)\n",
    "sns.histplot(train, x=\"1_placurv\", hue=\"Label\", ax=axs[1,0], element=\"step\", fill=False, legend=False)\n",
    "sns.histplot(train, x=\"1_procurv\", hue=\"Label\", ax=axs[1,1], element=\"step\", fill=False, legend=False)\n",
    "sns.histplot(train, x=\"1_lsfactor\", hue=\"Label\", ax=axs[1,2], element=\"step\", fill=False, legend=False)\n",
    "sns.histplot(train, x=\"1_twi\", hue=\"Label\", ax=axs[2,0], element=\"step\", fill=False, legend=False, log_scale=True)\n",
    "sns.histplot(train, x=\"1_geology\", hue=\"Label\", ax=axs[2,1], multiple=\"dodge\", element=\"step\", fill=False, legend=False)\n",
    "sns.histplot(train, x=\"1_sdoif\", hue=\"Label\", ax=axs[2,2], element=\"step\", fill=False, legend=False)\n",
    "\n",
    "fig.tight_layout()\n",
    "plt.show()\n",
    "\n",
    "# no clear differentiation between landslides and no landslide possible for any feature"
   ]
  },
  {
   "cell_type": "markdown",
   "id": "b42dabc2-763f-420e-b660-0ea9992f1a67",
   "metadata": {},
   "source": [
    "## Correlations"
   ]
  },
  {
   "cell_type": "code",
   "execution_count": null,
   "id": "0c9132aa-eb97-4261-98cf-4e6e864fb93b",
   "metadata": {},
   "outputs": [],
   "source": [
    "cols = ['1_elevation', '1_slope', '1_aspect', '1_placurv', '1_procurv', \n",
    "        '1_lsfactor', '1_twi', '1_geology', '1_sdoif']\n",
    "sns.pairplot(train[cols])\n",
    "\n",
    "# cretaceus tuff and lava only in very high areas, fill and sandstone, siltstone and mudstone only in low areas\n",
    "# little correlation between most features"
   ]
  },
  {
   "cell_type": "code",
   "execution_count": null,
   "id": "28873fe1-5409-4e2a-b37e-ee9eb5205fd8",
   "metadata": {},
   "outputs": [],
   "source": [
    "# Quantify correlations\n",
    "corr = train[cols].corr()\n",
    "plt.figure(figsize = (13, 8))\n",
    "sns.heatmap(corr, cmap='RdYlGn', annot = True, center = 0)\n",
    "plt.title('Correlogram', fontsize = 15, color = 'darkgreen')\n",
    "plt.show()\n",
    "\n",
    "# highest correlation between slope and lsfactor, procurv and placurv, placurv and twi"
   ]
  },
  {
   "cell_type": "code",
   "execution_count": null,
   "id": "2ad81be2-89ac-4bef-8df0-73ca4a46c9da",
   "metadata": {},
   "outputs": [],
   "source": []
  }
 ],
 "metadata": {
  "kernelspec": {
   "display_name": "Python 3 (ipykernel)",
   "language": "python",
   "name": "python3"
  },
  "language_info": {
   "codemirror_mode": {
    "name": "ipython",
    "version": 3
   },
   "file_extension": ".py",
   "mimetype": "text/x-python",
   "name": "python",
   "nbconvert_exporter": "python",
   "pygments_lexer": "ipython3",
   "version": "3.9.4"
  }
 },
 "nbformat": 4,
 "nbformat_minor": 5
}
