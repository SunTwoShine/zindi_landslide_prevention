{
 "cells": [
  {
   "cell_type": "markdown",
   "id": "64ad4a59-8c24-493b-983d-fc6c7170289d",
   "metadata": {},
   "source": [
    "# A Zindi Competition on identifying Landslides in Hong Kong\n",
    "\n",
    "https://zindi.africa/competitions/landslide-prevention-and-innovation-challenge/\n",
    "\n",
    "This notebook includes some exploratory data analysis (EDA) on the training data from the landslide prevention and innovation challenge.\n",
    "\n",
    "The data includes 9 features from areas surrounding a possible landslide site. The features are:\n",
    "* Elevation\n",
    "* Slope\n",
    "* Aspect\n",
    "* Planform curvature\n",
    "* Profile curvature\n",
    "* Length-slope-factor\n",
    "* Topographic wetness index\n",
    "* Geology/Surface material (7 different materials)\n",
    "* Step duration orographic intensification factor\n",
    "\n",
    "The features are presented for 5x5 m² fields surrounding a possible landslide site in two rings. They are counted from 1 to 25, with 13 begin the centre. If a landslide occured, this landslide would be in field 13.\n",
    "\n",
    "|  |  |  |  |  |\n",
    "|:---:|:---:|:---:|:---:|:---:|\n",
    "|1|6|11|16|21|\n",
    "|2|7|12|17|22|\n",
    "|3|8|**13**|18|23|\n",
    "|4|9|14|19|24|\n",
    "|5|10|15|20|25|\n",
    "\n",
    "The EDA includes:\n",
    "* Overview graphs for correlations of different locations of single features\n",
    "* Distributions of the features depending on the label\n",
    "* Correlations between features"
   ]
  },
  {
   "cell_type": "code",
   "execution_count": null,
   "id": "ec179281-2d92-497e-81a7-68efa8d669cd",
   "metadata": {},
   "outputs": [],
   "source": [
    "# import the libraries used\n",
    "import pandas as pd\n",
    "import matplotlib.pyplot as plt\n",
    "import seaborn as sns\n",
    "import numpy as np"
   ]
  },
  {
   "cell_type": "code",
   "execution_count": null,
   "id": "d5a2f447-9ce1-4bf9-a98c-92c0962a3266",
   "metadata": {},
   "outputs": [],
   "source": [
    "# Loading the data\n",
    "train = pd.read_csv('data/Train.csv')"
   ]
  },
  {
   "cell_type": "code",
   "execution_count": null,
   "id": "becda4df-392e-41ee-bd14-628be2847323",
   "metadata": {},
   "outputs": [],
   "source": [
    "# Show data\n",
    "train.head()"
   ]
  },
  {
   "cell_type": "code",
   "execution_count": null,
   "id": "48feaab0-d33f-4fe8-bbd6-cf9580eacc42",
   "metadata": {},
   "outputs": [],
   "source": [
    "train.info()"
   ]
  },
  {
   "cell_type": "code",
   "execution_count": null,
   "id": "05e1e2c1-2e1e-468f-a68f-3b71a4fe1344",
   "metadata": {},
   "outputs": [],
   "source": [
    "# Check for missing values\n",
    "train.isna().sum().sum()\n",
    "# No missing values"
   ]
  },
  {
   "cell_type": "code",
   "execution_count": null,
   "id": "3b223d03-afc1-44dd-be97-43feafe77aa4",
   "metadata": {},
   "outputs": [],
   "source": [
    "# Check for duplicates\n",
    "train.duplicated().any()\n",
    "# No duplicates"
   ]
  },
  {
   "cell_type": "code",
   "execution_count": null,
   "id": "c4e33512-aea6-457d-bdca-f23aef66ae79",
   "metadata": {},
   "outputs": [],
   "source": [
    "# Distribution of target value (0 means \"no landslide\", 1 means \"landslide occured\")\n",
    "train['Label'].value_counts(normalize=True)\n",
    "# unbalanced dataset has to be considered"
   ]
  },
  {
   "cell_type": "markdown",
   "id": "df8507bf-fbce-47a0-ae65-05acb0b552ac",
   "metadata": {},
   "source": [
    "## Overview plots for each feature\n",
    "\n",
    "Plots showing the spatial distribution of all features to check for volatility. Some features might change in value between the different positions of the feature for a single observation. For each feature, the same 5 positions are shown for better comparison."
   ]
  },
  {
   "cell_type": "code",
   "execution_count": null,
   "id": "d5417f5f-e35a-46d3-a942-d4f13ba017c9",
   "metadata": {},
   "outputs": [],
   "source": [
    "def feature_pair_plot(feature, position, title, plotkind):\n",
    "    \"\"\"\n",
    "    Creates a seaborn-pairplot for several positions of the same feature.\n",
    "    \n",
    "    feature: name of the feature-column without number and underscore\n",
    "    position: list of positions of the measured fields, 13 is the central position with a possible landslide\n",
    "    title: Superior title of the diagram\n",
    "    plotkind: kind of plot of the comparison plots. Possible values: 'scatter', 'kde', 'hist', 'reg'\n",
    "    \"\"\"\n",
    "    feature_cols=[]\n",
    "    for i in position:\n",
    "        feature_cols.append(str(i)+'_'+feature)\n",
    "    plt.figure()\n",
    "    sns.pairplot(train[feature_cols], kind=plotkind)\n",
    "    plt.suptitle(title, y=1.01)\n",
    "    plt.show()"
   ]
  },
  {
   "cell_type": "code",
   "execution_count": null,
   "id": "67a11dce-9d60-4dfa-83ec-4cd5fa4d0925",
   "metadata": {},
   "outputs": [],
   "source": [
    "# Reminder of the spatial distribution of the features\n",
    "# 1 6  11 16 21\n",
    "# 2 7  12 17 22\n",
    "# 3 8  13 18 23\n",
    "# 4 9  14 19 24\n",
    "# 5 10 15 20 25\n",
    "\n",
    "# Corner, middle and adjescent to centre positions \n",
    "# used to plot correlations between different positions of the same feature\n",
    "position = [1, 17, 13, 9, 25]"
   ]
  },
  {
   "cell_type": "markdown",
   "id": "1f960a67-b520-4068-8db7-9baa37bc57aa",
   "metadata": {},
   "source": [
    "### Highly correlated features\n",
    "\n",
    "Elevation and orographic intensification factor are highly correlated between the different positions. \n",
    "\n",
    "For the elevation, this means, that no high cliffs or deep fractures are part of the data. \n",
    "\n",
    "The orographic intensification factor has something to do with the orographic influence on rainfall. Rainfall usually doesn't change in huge amounts in such a small area (25x25 m²), which can also be seen in the data. I could not find much information about this factor. See [this paper](https://www.mdpi.com/2073-4441/12/4/1177) on a study in Taiwan for more details. It includes the SDOIF."
   ]
  },
  {
   "cell_type": "code",
   "execution_count": null,
   "id": "0a6d8c6d-6d10-4bc9-bb9d-963050cd5745",
   "metadata": {},
   "outputs": [],
   "source": [
    "title='Digital elevation of the terrain surface in meter'\n",
    "feature_pair_plot(feature='elevation', position=position, title=title, plotkind='hist')\n",
    "\n",
    "# perfect correlation between different locations"
   ]
  },
  {
   "cell_type": "code",
   "execution_count": null,
   "id": "69ac41d0-61c5-4fd4-b6fb-4a6d73967148",
   "metadata": {},
   "outputs": [],
   "source": [
    "title='Step duration orographic intensification factor'\n",
    "feature_pair_plot(feature='sdoif', position=position, title=title, plotkind='hist')\n",
    "\n",
    "# perfect correlation all over"
   ]
  },
  {
   "cell_type": "markdown",
   "id": "b144a48f-151c-45b2-9218-776bda3c48ac",
   "metadata": {},
   "source": [
    "### Little correlation with far positions"
   ]
  },
  {
   "cell_type": "code",
   "execution_count": null,
   "id": "3e127830-5491-404f-bbda-77ee39551387",
   "metadata": {
    "tags": []
   },
   "outputs": [],
   "source": [
    "title='Angle of the slope inclination in degree'\n",
    "feature_pair_plot(feature='slope', position=position, title=title, plotkind='hist')\n",
    "\n",
    "# Slope varies a lot in these 25 x 25 m² samples\n",
    "# Positions closer together vary less"
   ]
  },
  {
   "cell_type": "code",
   "execution_count": null,
   "id": "4d62ef33-afb0-4f9d-83c5-b1153812c764",
   "metadata": {
    "tags": []
   },
   "outputs": [],
   "source": [
    "title='Exposition of the slope in degree'\n",
    "feature_pair_plot(feature='aspect', position=position, title=title, plotkind='hist')\n",
    "\n",
    "# High values in far edges due to circular behavior of the feature. \n",
    "# Tansformation of the feature is needed to take this into account for machine learning algorithms.\n",
    "# Most aspects are close to each other though"
   ]
  },
  {
   "cell_type": "code",
   "execution_count": null,
   "id": "53910293-d556-47aa-98a8-f804488f6f66",
   "metadata": {
    "tags": []
   },
   "outputs": [],
   "source": [
    "title='Length-slope factor'\n",
    "feature_pair_plot(feature='lsfactor', position=position, title=title, plotkind='hist')\n",
    "\n",
    "# some correlations throughout, but a lot more for close positions"
   ]
  },
  {
   "cell_type": "code",
   "execution_count": null,
   "id": "5577b12e-4003-47b9-850e-6d873f202e4e",
   "metadata": {
    "tags": []
   },
   "outputs": [],
   "source": [
    "title='Topographic wetness index'\n",
    "feature_pair_plot(feature='twi', position=position, title=title, plotkind='hist')\n",
    "\n",
    "# Highly skewed\n",
    "# Logarithmic transformation should help"
   ]
  },
  {
   "cell_type": "markdown",
   "id": "a3125230-9db3-48f5-bd96-83b16fe3dd40",
   "metadata": {
    "tags": []
   },
   "source": [
    "### No correlation with far positions\n",
    "\n",
    "**Planform and profile curvatures**\n",
    "\n",
    "Distributions: \n",
    "Single positions show normal distributions. They are not skewed and centered around zero. \n",
    "\n",
    "Correlations: \n",
    "While positions close together show a positive correlation, this reduces very quickly as the distance increases. The farthest positions don't show a correlation at all as the scatterplot only shows a circle."
   ]
  },
  {
   "cell_type": "code",
   "execution_count": null,
   "id": "d3322750-0420-4315-af95-bbff77735939",
   "metadata": {
    "tags": []
   },
   "outputs": [],
   "source": [
    "title='Planform curvature'\n",
    "feature_pair_plot(feature='placurv', position=position, title=title, plotkind='hist')\n",
    "\n",
    "# no correlation between far away positions\n",
    "# positions closer together are still quite similar"
   ]
  },
  {
   "cell_type": "code",
   "execution_count": null,
   "id": "a94e125c-41c1-4cc9-9e72-e4843ec77031",
   "metadata": {
    "tags": []
   },
   "outputs": [],
   "source": [
    "title='Profile curvature'\n",
    "feature_pair_plot(feature='procurv', position=position, title=title, plotkind='hist')\n",
    "\n",
    "# no correlation between far away positions\n",
    "# positions closer together are still quite similar"
   ]
  },
  {
   "cell_type": "markdown",
   "id": "6cf56d4f-113b-4bf9-91f9-73e464c385fe",
   "metadata": {},
   "source": [
    "## Geology\n",
    "\n",
    "The surface materials are:\n",
    "1. Weathered Cretaceous granitic rocks\n",
    "2. Weathered Jurassic granite rocks\n",
    "3. Weathered Jurassic tuff and lava\n",
    "4. Weathered Cretaceous tuff and lava\n",
    "5. Quaternary deposits\n",
    "6. Fill\n",
    "7. Weathered Jurassic sandstone, siltstone and mudstone"
   ]
  },
  {
   "cell_type": "markdown",
   "id": "67e56205-dc23-466d-a889-ea28c82f0171",
   "metadata": {},
   "source": [
    "### Distribution\n",
    "\n",
    "The differences in counts for each position are compared for each material.\n",
    "Due to huge differences in occurences from 19 for material 6 and 6166 for material 3, only the statistical values are shown for each material. \n",
    "\n",
    "By far the most common surface material is jurassic tuff and lava. Fill and weathered Cretaceous tuff and lava only occur very rarely. Overall the distribution of surface materials show only very little variation."
   ]
  },
  {
   "cell_type": "code",
   "execution_count": null,
   "id": "c7e7c112-592e-4338-94bf-0bf91c9e849d",
   "metadata": {},
   "outputs": [],
   "source": [
    "geology = pd.DataFrame()\n",
    "for i in range(25):\n",
    "    geology[f'{i+1}_geology'] = train[f'{i+1}_geology'].value_counts()\n",
    "geology.T.describe()"
   ]
  },
  {
   "cell_type": "markdown",
   "id": "03fe2f24-3c45-4987-933a-e38a3fc75a99",
   "metadata": {},
   "source": [
    "### Correlation between central position 13 and position 1 \n",
    "\n",
    "Mostly the material stays the same per observation. \n",
    "For material 5, sometimes the material in different positions change to material 2 or 3. Materials 2 and 3 belong to the Jurassic age, which is the oldest age mentioned here. These old rocks might therefore have been covered by the deposits from the Quaternary age.\n",
    "\n",
    "The most common surface material is material 3 (Jurassic tuff and lava)"
   ]
  },
  {
   "cell_type": "code",
   "execution_count": null,
   "id": "a4f38a83-28d9-4e2f-9154-e3ba71cf2b64",
   "metadata": {
    "tags": []
   },
   "outputs": [],
   "source": [
    "# inspired by https://stackoverflow.com/questions/60119971/seaborn-matplotlib-categorical-plot-markers-size-by-count-of-observations\n",
    "\n",
    "# the categorical variables to plot\n",
    "x = '1_geology'\n",
    "y = '13_geology'\n",
    "\n",
    "# Compute the counts of observations\n",
    "df_counts = train.groupby([x, y]).size().reset_index()\n",
    "df_counts.columns.values[df_counts.columns == 0] = 'count'\n",
    "\n",
    "# Compute a size variable for the markers so that they have a good size regardless\n",
    "# of the total count and the number of unique values in each categorical variable\n",
    "scale = 200*df_counts['count'].size\n",
    "size = df_counts['count']/df_counts['count'].sum()*scale\n",
    "\n",
    "# Create matplotlib scatter plot with additional formatting\n",
    "fig, ax = plt.subplots(figsize=(5,4))\n",
    "ax.scatter(x, y, size, data=df_counts)\n",
    "ax.set_xlabel('1_geology')\n",
    "ax.set_ylabel('13_geology')\n",
    "plt.show()"
   ]
  },
  {
   "cell_type": "markdown",
   "id": "677016b0-1ff6-40a9-a3a6-8bf06e36fa25",
   "metadata": {},
   "source": [
    "## Dependence of target on feature distribution\n",
    "\n",
    "| feature | dependence |\n",
    "| --- | --- |\n",
    "| elevation | more landslides at higher elevation |\n",
    "| slope | more landslides at higher slopes |\n",
    "| aspect | more landslides between 150 and 250 ° |\n",
    "| placurv | no difference |\n",
    "| procurv | no difference |\n",
    "| lsfactor | more landslides at higher lsfactors |\n",
    "| twi | more landslides at lower twi |\n",
    "| geology |  |\n",
    "| sdoif | hardly any landslides below 1.25 |"
   ]
  },
  {
   "cell_type": "code",
   "execution_count": null,
   "id": "5d4fa8dd-d365-4a05-8591-387fa81180a8",
   "metadata": {},
   "outputs": [],
   "source": [
    "# Calculating relative values of geology for better visibility\n",
    "geology = train.value_counts(subset=['13_geology', 'Label'], sort=False).reset_index(name=\"count\")\n",
    "geology_sum = train.value_counts('13_geology', sort=False).reset_index(name=\"sum\")\n",
    "geology_full = geology.merge(geology_sum, on='13_geology')\n",
    "geology_full['rel'] = geology_full['count']/geology_full['sum']\n",
    "geology_full"
   ]
  },
  {
   "cell_type": "code",
   "execution_count": null,
   "id": "278d6e0a-0714-41fa-aec6-969eb7439247",
   "metadata": {},
   "outputs": [],
   "source": [
    "fig, axs = plt.subplots(3, 3, figsize = (13, 10))\n",
    "\n",
    "sns.histplot(data=train, x=\"13_elevation\", hue=\"Label\", ax=axs[0,0], element=\"step\", fill=False)\n",
    "sns.histplot(train, x=\"13_slope\", hue=\"Label\", ax=axs[0,1], element=\"step\", fill=False, legend=False)\n",
    "sns.histplot(train, x=\"13_aspect\", hue=\"Label\", ax=axs[0,2], element=\"step\", fill=False, legend=False)\n",
    "sns.histplot(train, x=\"13_placurv\", hue=\"Label\", ax=axs[1,0], element=\"step\", fill=False, legend=False)\n",
    "sns.histplot(train, x=\"13_procurv\", hue=\"Label\", ax=axs[1,1], element=\"step\", fill=False, legend=False)\n",
    "sns.histplot(train, x=\"13_lsfactor\", hue=\"Label\", ax=axs[1,2], element=\"step\", fill=False, legend=False)\n",
    "sns.histplot(train, x=\"13_twi\", hue=\"Label\", ax=axs[2,0], element=\"step\", fill=False, legend=False, log_scale=True)\n",
    "sns.histplot(train, x=\"13_sdoif\", hue=\"Label\", ax=axs[2,1], element=\"step\", fill=False, legend=False)\n",
    "sns.histplot(geology_full, x=\"13_geology\", hue=\"Label\", weights='rel', bins=7, ax=axs[2,2], multiple=\"stack\", fill=True, legend=False)\n",
    "\n",
    "axs[2,2].set_ylabel('percentage')\n",
    "\n",
    "fig.tight_layout()\n",
    "plt.show()"
   ]
  },
  {
   "cell_type": "markdown",
   "id": "b42dabc2-763f-420e-b660-0ea9992f1a67",
   "metadata": {},
   "source": [
    "## Correlations\n",
    "\n",
    "High sdoifs can be at high elevations. Sdoif usually has higher values at higher elevations."
   ]
  },
  {
   "cell_type": "code",
   "execution_count": null,
   "id": "0c9132aa-eb97-4261-98cf-4e6e864fb93b",
   "metadata": {},
   "outputs": [],
   "source": [
    "cols = ['1_elevation', '1_slope', '1_aspect', '1_placurv', '1_procurv', \n",
    "        '1_lsfactor', '1_twi', '1_geology', '1_sdoif']\n",
    "sns.pairplot(train[cols])\n",
    "\n",
    "# cretaceus tuff and lava only in very high areas, fill and sandstone, siltstone and mudstone only in low areas\n",
    "# little correlation between most features"
   ]
  },
  {
   "cell_type": "code",
   "execution_count": null,
   "id": "28873fe1-5409-4e2a-b37e-ee9eb5205fd8",
   "metadata": {},
   "outputs": [],
   "source": [
    "# Quantify correlations\n",
    "corr = train[cols].corr()\n",
    "plt.figure(figsize = (13, 8))\n",
    "sns.heatmap(corr, cmap='RdYlGn', annot = True, center = 0)\n",
    "plt.title('Correlogram', fontsize = 15, color = 'darkgreen')\n",
    "plt.show()\n",
    "\n",
    "# highest correlation between slope and lsfactor, procurv and placurv, placurv and twi"
   ]
  },
  {
   "cell_type": "code",
   "execution_count": null,
   "id": "859060c4-4ddb-4000-b965-0b7ddbae07e5",
   "metadata": {},
   "outputs": [],
   "source": []
  }
 ],
 "metadata": {
  "kernelspec": {
   "display_name": "Python 3 (ipykernel)",
   "language": "python",
   "name": "python3"
  },
  "language_info": {
   "codemirror_mode": {
    "name": "ipython",
    "version": 3
   },
   "file_extension": ".py",
   "mimetype": "text/x-python",
   "name": "python",
   "nbconvert_exporter": "python",
   "pygments_lexer": "ipython3",
   "version": "3.9.4"
  }
 },
 "nbformat": 4,
 "nbformat_minor": 5
}
