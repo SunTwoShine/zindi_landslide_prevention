{
 "cells": [
  {
   "cell_type": "markdown",
   "id": "2c4d95a0-d9bc-4e56-a123-23b0ea2e76b2",
   "metadata": {},
   "source": [
    "# Models for the Zindi-Landslide-Competition\n",
    "\n",
    "A description of the data can be found in the notebook EDA.\n",
    "\n",
    "The metric for this competition is the f1-score.\n",
    "\n",
    "My final score on the public leaderboard is 0.76586, which ranked: 56/149.\n",
    "The top score is 0.79351."
   ]
  },
  {
   "cell_type": "code",
   "execution_count": null,
   "id": "4358f095-ff46-438b-a19b-923f25cdd126",
   "metadata": {},
   "outputs": [],
   "source": [
    "import pandas as pd\n",
    "import matplotlib.pyplot as plt\n",
    "import seaborn as sns\n",
    "import numpy as np\n",
    "\n",
    "from sklearn.model_selection import train_test_split\n",
    "from sklearn.preprocessing import StandardScaler\n",
    "from sklearn.metrics import f1_score, recall_score, classification_report, confusion_matrix, ConfusionMatrixDisplay\n",
    "\n",
    "from sklearn.linear_model import LogisticRegression\n",
    "from sklearn.neighbors import KNeighborsClassifier\n",
    "from sklearn.svm import SVC\n",
    "\n",
    "from sklearn.ensemble import StackingClassifier, HistGradientBoostingClassifier\n",
    "\n",
    "from sklearn.model_selection import GridSearchCV"
   ]
  },
  {
   "cell_type": "markdown",
   "id": "6af74461-91ae-4317-8663-a146d8c53b23",
   "metadata": {},
   "source": [
    "## Preprocessing\n",
    "\n",
    "As seen in the EDA, the twi-feature is highly skewed and the aspect-feature is circular. These columns of these features have to be transformed for usage in machine-learning algorithms.\n",
    "\n",
    "The preprocessing includes:\n",
    "* log transformation of twi-feature\n",
    "* cos/sin transformation of aspect-feature\n",
    "* selecting relevant columns\n",
    "* standard scaling"
   ]
  },
  {
   "cell_type": "code",
   "execution_count": null,
   "id": "028e71f9-032b-4536-8305-55aa65a14335",
   "metadata": {},
   "outputs": [],
   "source": [
    "# load data\n",
    "train = pd.read_csv('data/Train.csv')\n",
    "test = pd.read_csv('data/Test.csv')"
   ]
  },
  {
   "cell_type": "code",
   "execution_count": null,
   "id": "3d6868b4-d537-4313-8fc4-9dd313760b74",
   "metadata": {},
   "outputs": [],
   "source": [
    "# log-transform of columns\n",
    "def log_transform(df, column):\n",
    "    for col in df.columns:\n",
    "        if column in col:\n",
    "            result = np.where(df[col]>1.0e-5, df[col], 1.0e-5)\n",
    "            df[col+'_log'] = np.log(result)"
   ]
  },
  {
   "cell_type": "code",
   "execution_count": null,
   "id": "ae501b89-ba45-45da-a474-6c478585ffe9",
   "metadata": {},
   "outputs": [],
   "source": [
    "# using log_transform on twi columns of train and test set\n",
    "log_transform(train, 'twi')\n",
    "log_transform(test, 'twi')"
   ]
  },
  {
   "cell_type": "code",
   "execution_count": null,
   "id": "12d42de8-f1aa-4679-9824-93dfb2dff9d0",
   "metadata": {},
   "outputs": [],
   "source": [
    "# sine/cosine of circular-columns\n",
    "def angle_transform(df, column):\n",
    "    for col in df.columns:\n",
    "        if column in col:\n",
    "            df[col+'_sin'] = np.sin(np.deg2rad(df[col]))\n",
    "            df[col+'_cos'] = np.cos(np.deg2rad(df[col]))"
   ]
  },
  {
   "cell_type": "code",
   "execution_count": null,
   "id": "2e28f187-2825-4548-bca3-0ba5d9d66724",
   "metadata": {},
   "outputs": [],
   "source": [
    "# using angle_transform on aspect columns of train and test set\n",
    "angle_transform(train, 'aspect')\n",
    "angle_transform(test, 'aspect')"
   ]
  },
  {
   "cell_type": "code",
   "execution_count": null,
   "id": "f563c58c-b434-4072-af28-893a8dc6ff1f",
   "metadata": {},
   "outputs": [],
   "source": [
    "# select all columns of specific features including the transformed columns of twi and aspect\n",
    "selected_cols = []\n",
    "selected_features = ['elevation', 'slope', 'aspect_sin', 'aspect_cos',\n",
    "                     'placurv', 'procurv', 'lsfactor', 'twi_log', 'geology', 'sdoif']\n",
    "for col in train.columns:\n",
    "    for feature in selected_features:\n",
    "        if feature in col:\n",
    "            selected_cols.append(col)"
   ]
  },
  {
   "cell_type": "code",
   "execution_count": null,
   "id": "2612b57a-3236-4c96-9298-3a23fca9e73c",
   "metadata": {},
   "outputs": [],
   "source": [
    "# select columns used for x (features) and y (result) in modelling\n",
    "X = train[selected_cols]\n",
    "y = train.Label\n",
    "\n",
    "# Split training data into train and validation sets with similar ratio of the label\n",
    "X_train, X_val, y_train, y_val = train_test_split(X,y,test_size=0.3, random_state=2022, stratify=y)"
   ]
  },
  {
   "cell_type": "code",
   "execution_count": null,
   "id": "ec422b68-645d-42d4-9ebc-e7c514eded7c",
   "metadata": {},
   "outputs": [],
   "source": [
    "# Scale feature values to similar value range\n",
    "sc = StandardScaler()\n",
    "X_train = sc.fit_transform(X_train)\n",
    "X_val = sc.transform(X_val)"
   ]
  },
  {
   "cell_type": "code",
   "execution_count": null,
   "id": "f7de5ed3-98ca-44f7-9127-3ee75e2396c2",
   "metadata": {},
   "outputs": [],
   "source": [
    "# Select columns for test set and scale feature values like in the training set\n",
    "X_test = test[selected_cols]\n",
    "X_test = sc.transform(X_test)"
   ]
  },
  {
   "cell_type": "markdown",
   "id": "4c0dde0e-8a89-497d-92eb-ff00de8f29ff",
   "metadata": {
    "tags": []
   },
   "source": [
    "## Model results and Confusion matrix\n",
    "\n",
    "Define functions used for presenting the results of different algorithms. "
   ]
  },
  {
   "cell_type": "code",
   "execution_count": null,
   "id": "e04ff520-60b2-4d88-98bc-002e58891a4f",
   "metadata": {},
   "outputs": [],
   "source": [
    "def plot_confusion_matrix(true, predicted, classifier):\n",
    "    \"\"\"\n",
    "    plot the confusion matrix for a classifier\n",
    "    Input:\n",
    "     true: actual values\n",
    "     predicted: predicted values with the classifier\n",
    "     classifier: classifier used for predictions\n",
    "    \"\"\"\n",
    "    cm = confusion_matrix(true, predicted, labels=classifier.classes_)\n",
    "    disp = ConfusionMatrixDisplay(confusion_matrix=cm, display_labels=classifier.classes_)\n",
    "    fig, ax = plt.subplots(figsize=(3,2))\n",
    "    disp.plot(ax=ax)\n",
    "    plt.show()"
   ]
  },
  {
   "cell_type": "code",
   "execution_count": null,
   "id": "840300c0-6983-4270-8df4-1f6ed445e84f",
   "metadata": {},
   "outputs": [],
   "source": [
    "def fit_clf_and_results(x_train, x_val, y_train, y_val, classifier):\n",
    "    \"\"\"\n",
    "    fit a classifier and print f1-score, classification report and confusion matrix\n",
    "    returns y_pred, f1-score, recall-score\n",
    "    Input:\n",
    "     x_train: data used for training the classifier\n",
    "     x_val: data used for validating the classifier\n",
    "     y_train: label of training data\n",
    "     y_val: label of validation data\n",
    "     classifier: a classifier from sklearn\n",
    "    \"\"\"\n",
    "    classifier.fit(x_train, y_train)\n",
    "\n",
    "    # Make predictions\n",
    "    y_pred = classifier.predict(x_val)\n",
    "\n",
    "    # Check the auc score of the model\n",
    "    f1 = f1_score(y_val, y_pred)\n",
    "    recall = recall_score(y_val, y_pred)\n",
    "    print(f'{classifier} \\nF1 score on the X_val is: {f1}\\n')\n",
    "\n",
    "    # print classification report\n",
    "    print(classification_report(y_val, y_pred))\n",
    "    \n",
    "    plot_confusion_matrix(y_val, y_pred, classifier)\n",
    "    \n",
    "    return y_pred, f1, recall"
   ]
  },
  {
   "cell_type": "markdown",
   "id": "30c1d696-c606-415e-b183-b3a6201172d5",
   "metadata": {},
   "source": [
    "## Logistic regression (Baseline Model)"
   ]
  },
  {
   "cell_type": "code",
   "execution_count": null,
   "id": "228446c8-42dd-4db6-b004-9920c53f20f5",
   "metadata": {},
   "outputs": [],
   "source": [
    "# Train model\n",
    "logreg = LogisticRegression(class_weight='balanced', random_state=2022, max_iter=1000)\n",
    "y_pred_logreg, f1_logreg, recall_logreg = fit_clf_and_results(X_train, X_val, y_train, y_val, logreg)"
   ]
  },
  {
   "cell_type": "code",
   "execution_count": null,
   "id": "1b613cd9-c4d5-4266-a21a-d2d8d150300e",
   "metadata": {},
   "outputs": [],
   "source": [
    "y_test_logreg = logreg.predict(X_test)\n",
    "y_test_logreg"
   ]
  },
  {
   "cell_type": "markdown",
   "id": "c6a70252-30a2-4612-b5d3-1148cfff5ca4",
   "metadata": {},
   "source": [
    "## K-Nearest-Neighbors"
   ]
  },
  {
   "cell_type": "markdown",
   "id": "4642f432-db23-4d1e-ae4c-76ccac164aea",
   "metadata": {},
   "source": [
    "### Hyperparameter Tuning using Grid Search\n",
    "\n",
    "Finding best parameters for the K-nearest-neighbors algorithm"
   ]
  },
  {
   "cell_type": "code",
   "execution_count": null,
   "id": "90e414b6-91cf-4130-ba0a-d1f090cb63a4",
   "metadata": {},
   "outputs": [],
   "source": [
    "# parameters = {'n_neighbors':[4,6,8,12,15,20], 'p':[1, 2], 'weights':('uniform','distance')}\n",
    "# knn_clf = KNeighborsClassifier()\n",
    "# clf = GridSearchCV(knn_clf, parameters, scoring='f1')\n",
    "# clf.fit(X_train, y_train)"
   ]
  },
  {
   "cell_type": "code",
   "execution_count": null,
   "id": "8707f9c4-e88f-4ce5-b413-a38343c49dfa",
   "metadata": {},
   "outputs": [],
   "source": [
    "# clf.best_params_"
   ]
  },
  {
   "cell_type": "markdown",
   "id": "3b0f8e75-1def-43e4-9bf8-dda073ba825b",
   "metadata": {},
   "source": [
    "### Applying the best parameters"
   ]
  },
  {
   "cell_type": "code",
   "execution_count": null,
   "id": "e94ad92a-86ad-4a35-87b8-9a7073d0bbb1",
   "metadata": {
    "tags": []
   },
   "outputs": [],
   "source": [
    "# Train model\n",
    "knn = KNeighborsClassifier(n_neighbors=12, weights='distance', p=1)\n",
    "y_pred_knn, f1_knn, recall_knn = fit_clf_and_results(X_train, X_val, y_train, y_val, knn)"
   ]
  },
  {
   "cell_type": "code",
   "execution_count": null,
   "id": "7953b68c-6308-49be-a461-ec11e1f9f40e",
   "metadata": {
    "tags": []
   },
   "outputs": [],
   "source": [
    "y_test_knn = knn.predict(X_test)\n",
    "y_test_knn"
   ]
  },
  {
   "cell_type": "markdown",
   "id": "fefca5cc-2186-4d2f-91f5-625a8a18c83d",
   "metadata": {},
   "source": [
    "## Support Vector Machine"
   ]
  },
  {
   "cell_type": "markdown",
   "id": "0094e33e-4035-4b5e-964d-680eabe49ada",
   "metadata": {},
   "source": [
    "### Hyperparameter Tuning using Grid Search"
   ]
  },
  {
   "cell_type": "code",
   "execution_count": null,
   "id": "bc808049-4f2d-4bf8-9962-1c8250723f82",
   "metadata": {},
   "outputs": [],
   "source": [
    "# parameters = {'kernel':('poly', 'rbf', 'sigmoid'), 'C':[0.1, 0.5, 1, 2], 'class_weight':(None,'balanced')}\n",
    "# SVC_clf = SVC()\n",
    "# clf = GridSearchCV(SVC_clf, parameters, scoring='f1')\n",
    "# clf.fit(X_train, y_train)"
   ]
  },
  {
   "cell_type": "code",
   "execution_count": null,
   "id": "a387d266-6a52-48c9-a269-b963cefcb824",
   "metadata": {},
   "outputs": [],
   "source": [
    "# clf.best_params_"
   ]
  },
  {
   "cell_type": "markdown",
   "id": "74d2e276-794a-4f69-8d4c-8cd253daa150",
   "metadata": {},
   "source": [
    "### Applying the best parameters"
   ]
  },
  {
   "cell_type": "code",
   "execution_count": null,
   "id": "dfc8edae-310c-4bd9-912e-0b906fbf87df",
   "metadata": {},
   "outputs": [],
   "source": [
    "# Train model\n",
    "svm = SVC(C=2, class_weight='balanced', random_state=2022)\n",
    "y_pred_svm, f1_svm, recall_svm = fit_clf_and_results(X_train, X_val, y_train, y_val, svm)"
   ]
  },
  {
   "cell_type": "code",
   "execution_count": null,
   "id": "2dcb7789-9e3d-40ed-930b-f5864a08af82",
   "metadata": {},
   "outputs": [],
   "source": [
    "y_test_svm = svm.predict(X_test)\n",
    "y_test_svm"
   ]
  },
  {
   "cell_type": "markdown",
   "id": "9ad07825-11de-4815-b2f8-00861bd1d86c",
   "metadata": {},
   "source": [
    "## Ensemble Methods\n",
    "\n",
    "Combining several models to archive better results than just by using a single model. However, this makes the model more complex, more time consuming to train and less understandable."
   ]
  },
  {
   "cell_type": "markdown",
   "id": "3a2b1542-c22f-48dd-84f5-87d406ed93e3",
   "metadata": {},
   "source": [
    "### Histogram Gradient Boosting\n",
    "\n",
    "The histogram gradient boosting turned out to perform better than Random Forest and normal gradient boosting."
   ]
  },
  {
   "cell_type": "code",
   "execution_count": null,
   "id": "af8c0d64-b87b-4222-a566-671203ea8b54",
   "metadata": {},
   "outputs": [],
   "source": [
    "# parameters = {'max_depth': (10,20,30), 'max_leaf_nodes':(10,31,50)}\n",
    "# gb_clf = HistGradientBoostingClassifier()\n",
    "# clf = GridSearchCV(gb_clf, parameters, scoring='f1')\n",
    "# clf.fit(X_train, y_train)"
   ]
  },
  {
   "cell_type": "code",
   "execution_count": null,
   "id": "95efc910-8b74-4bb3-8650-6bcd8dff03c9",
   "metadata": {},
   "outputs": [],
   "source": [
    "# clf.best_params_"
   ]
  },
  {
   "cell_type": "code",
   "execution_count": null,
   "id": "5cef1c32-c8cb-4a53-82e4-40800fd62f74",
   "metadata": {},
   "outputs": [],
   "source": [
    "gb = HistGradientBoostingClassifier(max_leaf_nodes=50, max_depth=20, max_iter=1000, scoring='f1', random_state=2022)\n",
    "y_pred_gb, f1_gb, recall_gb = fit_clf_and_results(X_train, X_val, y_train, y_val, gb)"
   ]
  },
  {
   "cell_type": "markdown",
   "id": "4b2245d4-692d-4402-b31d-48f3e78e3eb5",
   "metadata": {},
   "source": [
    "### Stacked Estimators\n",
    "\n",
    "The hyperparameters used here have turned out to be performing better than the ones found for the classifiers by itself."
   ]
  },
  {
   "cell_type": "code",
   "execution_count": null,
   "id": "8297a164-faeb-4c85-9d4f-20f57c780ce0",
   "metadata": {
    "tags": []
   },
   "outputs": [],
   "source": [
    "estimators = [\n",
    "    ('lr_bal', LogisticRegression(class_weight='balanced', random_state = 2022, max_iter=1000)),\n",
    "    ('knn', KNeighborsClassifier(n_neighbors=13, weights='distance', p=1)),\n",
    "    ('svm_bal', SVC(C=1, class_weight='balanced', random_state=2022)),\n",
    "    ('gb', HistGradientBoostingClassifier(max_leaf_nodes=60, max_depth=20, max_iter=500, random_state=2022)),\n",
    "    ]\n",
    "\n",
    "final_est = LogisticRegression(class_weight='balanced', random_state = 42)\n",
    "\n",
    "stack_clf = StackingClassifier(estimators=estimators, final_estimator=final_est)\n",
    "y_pred_stack_clf, f1_stack_clf, recall_stack_clf = fit_clf_and_results(X_train, X_val, y_train, y_val, stack_clf)"
   ]
  },
  {
   "cell_type": "markdown",
   "id": "c5376725-c53e-4e32-8a90-4b0dc960765f",
   "metadata": {},
   "source": [
    "StackingClassifier(estimators=[('lr_bal',\n",
    "                                LogisticRegression(class_weight='balanced',\n",
    "                                                   max_iter=1000,\n",
    "                                                   random_state=2022)),\n",
    "                               ('knn',\n",
    "                                KNeighborsClassifier(n_neighbors=13, p=1,\n",
    "                                                     weights='distance')),\n",
    "                               ('svm_bal',\n",
    "                                SVC(C=1, class_weight='balanced',\n",
    "                                    random_state=2022)),\n",
    "                               ('gb',\n",
    "                                HistGradientBoostingClassifier(max_depth=20,\n",
    "                                                               max_iter=500,\n",
    "                                                               max_leaf_nodes=60,\n",
    "                                                               random_state=2022))],\n",
    "                   final_estimator=LogisticRegression(class_weight='balanced',\n",
    "                                                      random_state=42)) \n",
    "F1 score on the X_val is: 0.7147505422993492"
   ]
  },
  {
   "cell_type": "code",
   "execution_count": null,
   "id": "5d9394c1-6308-42e0-8567-ce79e61fa4dd",
   "metadata": {},
   "outputs": [],
   "source": [
    "# ('lr_bal',\n",
    "#                                 LogisticRegression(class_weight='balanced',\n",
    "#                                                    max_iter=1000,\n",
    "#                                                    random_state=2022)),\n",
    "#                                ('knn',\n",
    "#                                 KNeighborsClassifier(n_neighbors=13, p=1,\n",
    "#                                                      weights='distance')),\n",
    "#                                ('svm_bal',\n",
    "#                                 SVC(C=2, class_weight='balanced',\n",
    "#                                     random_state=2022)),\n",
    "#                                ('gb',\n",
    "#                                 HistGradientBoostingClassifier(max_depth=20,\n",
    "#                                                                max_iter=500,\n",
    "#                                                                max_leaf_nodes=60,\n",
    "#                                                                random_state=2022))],\n",
    "\n",
    "f1_stack_clf"
   ]
  },
  {
   "cell_type": "code",
   "execution_count": null,
   "id": "ac8e05ed-6f14-49d7-b1d8-1ab796b42e7b",
   "metadata": {},
   "outputs": [],
   "source": [
    "# Predict on test set\n",
    "y_test_stack = stack_clf.predict(X_test)\n",
    "y_test_stack"
   ]
  },
  {
   "cell_type": "code",
   "execution_count": null,
   "id": "c9ccd873-cc77-43ee-92e7-0c362b86ab60",
   "metadata": {
    "tags": []
   },
   "outputs": [],
   "source": [
    "estimators = [\n",
    "    ('lr_bal', LogisticRegression(class_weight='balanced', random_state = 2022, max_iter=1000)),\n",
    "    ('knn', KNeighborsClassifier(n_neighbors=15, weights='distance', p=1)),\n",
    "    ('svm_bal', SVC(class_weight='balanced', random_state=2022)),\n",
    "    ('gb', HistGradientBoostingClassifier(max_leaf_nodes=50, max_depth=20, max_iter=500, random_state=2022)),\n",
    "    ]\n",
    "\n",
    "final_est = LogisticRegression(class_weight='balanced', random_state = 42)\n",
    "\n",
    "sclf = StackingClassifier(estimators= estimators , final_estimator=final_est)\n",
    "\n",
    "params = {'knn__n_neighbors': [10,12,15],\n",
    "          'svm_bal__C': [1,2]\n",
    "          }\n",
    "\n",
    "grid = GridSearchCV(estimator=sclf, param_grid=params, cv=5, scoring='f1')\n",
    "grid.fit(X_train, y_train)"
   ]
  },
  {
   "cell_type": "code",
   "execution_count": null,
   "id": "4e947143-050d-4eba-9bcf-319b285a1020",
   "metadata": {},
   "outputs": [],
   "source": [
    "grid.best_score_"
   ]
  },
  {
   "cell_type": "code",
   "execution_count": null,
   "id": "9c55c97e-d00b-4d05-bcb0-ec4f9e887a9c",
   "metadata": {
    "tags": []
   },
   "outputs": [],
   "source": [
    "grid.best_estimator_"
   ]
  },
  {
   "cell_type": "code",
   "execution_count": null,
   "id": "92de5c7a-3dc4-4317-9957-e780ed1221f4",
   "metadata": {
    "tags": []
   },
   "outputs": [],
   "source": [
    "grid_results = pd.DataFrame(grid.cv_results_)\n",
    "grid_results"
   ]
  },
  {
   "cell_type": "code",
   "execution_count": null,
   "id": "e153d3a2-8d7d-4ad1-ba9d-16d3f8456ef2",
   "metadata": {},
   "outputs": [],
   "source": [
    "pd.set_option('display.max_colwidth', None)\n",
    "grid_results[['params', 'rank_test_score']].sort_values(by='rank_test_score')"
   ]
  },
  {
   "cell_type": "markdown",
   "id": "4a67981f-45be-4b08-990c-be3c27ad17bc",
   "metadata": {},
   "source": [
    "## Submission file\n",
    "\n",
    "Creating and saving the submission file for the challenge."
   ]
  },
  {
   "cell_type": "code",
   "execution_count": null,
   "id": "5d743dbe-564f-4106-913d-4b51d75b8264",
   "metadata": {},
   "outputs": [],
   "source": [
    "df_y_test = pd.DataFrame(y_test_stack, columns=['Label'])\n",
    "y_submission = pd.concat([test['Sample_ID'],df_y_test], axis=1)\n",
    "y_submission.to_csv('data/submission_stack_maxleafnodes59.csv',index=False)"
   ]
  },
  {
   "cell_type": "markdown",
   "id": "3b24127c-999c-4b0a-911a-8b19190c07e0",
   "metadata": {},
   "source": [
    "## Analysing the Results"
   ]
  },
  {
   "cell_type": "code",
   "execution_count": null,
   "id": "c1df81d9-efc0-4ebb-aefe-991952f1fc6f",
   "metadata": {},
   "outputs": [],
   "source": [
    "classifiers = ['logreg', 'knn', 'svm', 'gb', 'stacked']\n",
    "f1_scores = [f1_logreg, f1_knn, f1_svm, f1_gb, f1_stack_clf]\n",
    "recall_scores = [recall_logreg, recall_knn, recall_svm, recall_gb, recall_stack_clf]"
   ]
  },
  {
   "cell_type": "code",
   "execution_count": null,
   "id": "a330c615-da7e-4147-8e27-5fcda5397728",
   "metadata": {},
   "outputs": [],
   "source": [
    "fig, axs = plt.subplots(1,2, figsize = (6, 4))\n",
    "axs[0].bar(classifiers, f1_scores)\n",
    "axs[1].bar(classifiers, recall_scores)\n",
    "axs[0].set(title='f1 score', ylim=[0,1])\n",
    "axs[1].set(title='recall score', ylim=[0,1])"
   ]
  },
  {
   "cell_type": "markdown",
   "id": "752b6e88-1581-4f25-afef-935945f5fcd2",
   "metadata": {},
   "source": [
    "### SVM Classifier"
   ]
  },
  {
   "cell_type": "code",
   "execution_count": null,
   "id": "a7c4d2d0-e033-490d-a472-31820eccac30",
   "metadata": {},
   "outputs": [],
   "source": [
    "def add_result_column(val_df, y_pred, classifier):\n",
    "    y_pred_df = pd.DataFrame(y_pred, columns=['Label_pred']).set_index(val_df.index)\n",
    "    \n",
    "    conditions = [\n",
    "    val_df['Label'].eq(0) & y_pred_df['Label_pred'].eq(0),\n",
    "    val_df['Label'].eq(1) & y_pred_df['Label_pred'].eq(0),\n",
    "    val_df['Label'].eq(0) & y_pred_df['Label_pred'].eq(1),\n",
    "    val_df['Label'].eq(1) & y_pred_df['Label_pred'].eq(1)\n",
    "    ]\n",
    "\n",
    "    choices = ['TN','FN','FP','TP']\n",
    "\n",
    "    val_df['Result_'+classifier] = np.select(conditions, choices, default=0)\n",
    "    return val_df"
   ]
  },
  {
   "cell_type": "code",
   "execution_count": null,
   "id": "7eef33df-604b-40ea-9904-b66f2cbd3d93",
   "metadata": {},
   "outputs": [],
   "source": [
    "val_df = pd.concat([pd.DataFrame(X_val, columns=selected_cols).set_index(y_val.index), y_val], axis=1)"
   ]
  },
  {
   "cell_type": "code",
   "execution_count": null,
   "id": "f9d9c104-a377-4e88-8fa2-351b83292a37",
   "metadata": {},
   "outputs": [],
   "source": [
    "results_df = add_result_column(val_df, y_pred_svm, 'SVM')"
   ]
  },
  {
   "cell_type": "code",
   "execution_count": null,
   "id": "512c4e9a-65cc-41c2-9025-97af3bf2d138",
   "metadata": {},
   "outputs": [],
   "source": [
    "results_df = add_result_column(results_df, y_pred_logreg, 'Logreg')"
   ]
  },
  {
   "cell_type": "code",
   "execution_count": null,
   "id": "7ea706f6-a4dc-4710-8f7c-a8f89d2d18e3",
   "metadata": {},
   "outputs": [],
   "source": [
    "results_df"
   ]
  },
  {
   "cell_type": "code",
   "execution_count": null,
   "id": "bdd73ad3-432e-4053-8a2b-8cdd20024587",
   "metadata": {
    "tags": []
   },
   "outputs": [],
   "source": [
    "fig, axs = plt.subplots(3, 3, figsize = (13, 10))\n",
    "present_df = results_df\n",
    "classifier = 'SVM'\n",
    "sns.histplot(present_df, x=\"13_elevation\", hue=\"Result_\"+classifier, ax=axs[0,0], element=\"step\", fill=False)\n",
    "sns.histplot(present_df, x=\"13_slope\", hue=\"Result_\"+classifier, ax=axs[0,1], element=\"step\", fill=False, legend=False)\n",
    "sns.histplot(present_df, x=\"13_aspect_sin\", hue=\"Result_\"+classifier, ax=axs[0,2], element=\"step\", fill=False, legend=False)\n",
    "sns.histplot(present_df, x=\"13_aspect_cos\", hue=\"Result_\"+classifier, ax=axs[0,2], element=\"step\", fill=False, legend=False)\n",
    "sns.histplot(present_df, x=\"13_placurv\", hue=\"Result_\"+classifier, ax=axs[1,0], element=\"step\", fill=False, legend=False)\n",
    "sns.histplot(present_df, x=\"13_procurv\", hue=\"Result_\"+classifier, ax=axs[1,1], element=\"step\", fill=False, legend=False)\n",
    "sns.histplot(present_df, x=\"13_lsfactor\", hue=\"Result_\"+classifier, ax=axs[1,2], element=\"step\", fill=False, legend=False)\n",
    "sns.histplot(present_df, x=\"13_twi_log\", hue=\"Result_\"+classifier, ax=axs[2,0], element=\"step\", fill=False, legend=False)\n",
    "sns.histplot(present_df, x=\"13_geology\", hue=\"Result_\"+classifier, ax=axs[2,1], multiple=\"dodge\", element=\"step\", fill=False, legend=False)\n",
    "sns.histplot(present_df, x=\"13_sdoif\", hue=\"Result_\"+classifier, ax=axs[2,2], element=\"step\", fill=False, legend=False)\n",
    "\n",
    "fig.tight_layout()\n",
    "plt.show()"
   ]
  },
  {
   "cell_type": "code",
   "execution_count": null,
   "id": "1d46ff87-3024-41f9-a459-129799239a07",
   "metadata": {},
   "outputs": [],
   "source": [
    "fig, axs = plt.subplots(3, 3, figsize = (13, 10))\n",
    "present_df = results_df\n",
    "classifier = 'Logreg'\n",
    "sns.histplot(present_df, x=\"13_elevation\", hue=\"Result_\"+classifier, ax=axs[0,0], element=\"step\", fill=False)\n",
    "sns.histplot(present_df, x=\"13_slope\", hue=\"Result_\"+classifier, ax=axs[0,1], element=\"step\", fill=False, legend=False)\n",
    "sns.histplot(present_df, x=\"13_aspect_sin\", hue=\"Result_\"+classifier, ax=axs[0,2], element=\"step\", fill=False, legend=False)\n",
    "sns.histplot(present_df, x=\"13_aspect_cos\", hue=\"Result_\"+classifier, ax=axs[0,2], element=\"step\", fill=False, legend=False)\n",
    "sns.histplot(present_df, x=\"13_placurv\", hue=\"Result_\"+classifier, ax=axs[1,0], element=\"step\", fill=False, legend=False)\n",
    "sns.histplot(present_df, x=\"13_procurv\", hue=\"Result_\"+classifier, ax=axs[1,1], element=\"step\", fill=False, legend=False)\n",
    "sns.histplot(present_df, x=\"13_lsfactor\", hue=\"Result_\"+classifier, ax=axs[1,2], element=\"step\", fill=False, legend=False)\n",
    "sns.histplot(present_df, x=\"13_twi_log\", hue=\"Result_\"+classifier, ax=axs[2,0], element=\"step\", fill=False, legend=False)\n",
    "sns.histplot(present_df, x=\"13_geology\", hue=\"Result_\"+classifier, ax=axs[2,1], multiple=\"dodge\", element=\"step\", fill=False, legend=False)\n",
    "sns.histplot(present_df, x=\"13_sdoif\", hue=\"Result_\"+classifier, ax=axs[2,2], element=\"step\", fill=False, legend=False)\n",
    "\n",
    "fig.tight_layout()\n",
    "plt.show()"
   ]
  },
  {
   "cell_type": "code",
   "execution_count": null,
   "id": "0c54ede6-2721-4d78-931c-d120a39da50b",
   "metadata": {},
   "outputs": [],
   "source": [
    "plot_order = [\"TN\", \"TP\", \"FP\", \"FN\"]\n",
    "fig, axs = plt.subplots(9,2, figsize = (10, 15))\n",
    "sns.boxplot(data=present_df, x=\"13_elevation\", y=\"Result_SVM\", order=plot_order, ax=axs[0,0])\n",
    "sns.boxplot(data=present_df, x=\"13_slope\", y=\"Result_SVM\", order=plot_order, ax=axs[1,0])\n",
    "sns.boxplot(data=present_df, x=\"13_aspect_sin\", y=\"Result_SVM\", order=plot_order, ax=axs[2,0])\n",
    "sns.boxplot(data=present_df, x=\"13_aspect_cos\", y=\"Result_SVM\", order=plot_order, ax=axs[3,0])\n",
    "sns.boxplot(data=present_df, x=\"13_placurv\", y=\"Result_SVM\", order=plot_order, ax=axs[4,0])\n",
    "sns.boxplot(data=present_df, x=\"13_procurv\", y=\"Result_SVM\", order=plot_order, ax=axs[5,0])\n",
    "sns.boxplot(data=present_df, x=\"13_lsfactor\", y=\"Result_SVM\", order=plot_order, ax=axs[6,0])\n",
    "sns.boxplot(data=present_df, x=\"13_twi_log\", y=\"Result_SVM\", order=plot_order, ax=axs[7,0])\n",
    "sns.boxplot(data=present_df, x=\"13_sdoif\", y=\"Result_SVM\", order=plot_order, ax=axs[8,0])\n",
    "\n",
    "sns.boxplot(data=present_df, x=\"13_elevation\", y=\"Result_Logreg\", order=plot_order, ax=axs[0,1])\n",
    "sns.boxplot(data=present_df, x=\"13_slope\", y=\"Result_Logreg\", order=plot_order, ax=axs[1,1])\n",
    "sns.boxplot(data=present_df, x=\"13_aspect_sin\", y=\"Result_Logreg\", order=plot_order, ax=axs[2,1])\n",
    "sns.boxplot(data=present_df, x=\"13_aspect_cos\", y=\"Result_Logreg\", order=plot_order, ax=axs[3,1])\n",
    "sns.boxplot(data=present_df, x=\"13_placurv\", y=\"Result_Logreg\", order=plot_order, ax=axs[4,1])\n",
    "sns.boxplot(data=present_df, x=\"13_procurv\", y=\"Result_Logreg\", order=plot_order, ax=axs[5,1])\n",
    "sns.boxplot(data=present_df, x=\"13_lsfactor\", y=\"Result_Logreg\", order=plot_order, ax=axs[6,1])\n",
    "sns.boxplot(data=present_df, x=\"13_twi_log\", y=\"Result_Logreg\", order=plot_order, ax=axs[7,1])\n",
    "sns.boxplot(data=present_df, x=\"13_sdoif\", y=\"Result_Logreg\", order=plot_order, ax=axs[8,1])\n",
    "\n",
    "fig.tight_layout()\n",
    "plt.show()"
   ]
  },
  {
   "cell_type": "code",
   "execution_count": null,
   "id": "8ca5d4e2-8b31-4a96-b973-a44880fac2d3",
   "metadata": {},
   "outputs": [],
   "source": [
    "markers = {'TN': '.', 'TP': '.', 'FP': '<', 'FN': '>'}"
   ]
  },
  {
   "cell_type": "code",
   "execution_count": null,
   "id": "83dcf110-bb87-44e6-b62e-bb18e768f246",
   "metadata": {},
   "outputs": [],
   "source": [
    "sns.scatterplot(x='13_elevation', y='13_slope', data=results_svm_full, hue='Result', \n",
    "                style='Result', markers=markers);"
   ]
  },
  {
   "cell_type": "code",
   "execution_count": null,
   "id": "e1877a44-eacf-4da4-a698-1d0ffff5d39f",
   "metadata": {},
   "outputs": [],
   "source": [
    "sns.scatterplot(x='13_twi_log', y='13_lsfactor', data=results_svm_full, hue='Result', \n",
    "                style='Result', markers=markers);"
   ]
  },
  {
   "cell_type": "code",
   "execution_count": null,
   "id": "8773c23c-1b88-4dde-ba8e-f1551c0bdee5",
   "metadata": {},
   "outputs": [],
   "source": [
    "sns.scatterplot(x='13_placurv', y='13_sdoif', data=results_svm_full, hue='Result', \n",
    "                style='Result', markers=markers);"
   ]
  },
  {
   "cell_type": "code",
   "execution_count": null,
   "id": "cc4527d9-63ce-45bd-b58c-b94ac5b3a981",
   "metadata": {},
   "outputs": [],
   "source": []
  },
  {
   "cell_type": "code",
   "execution_count": null,
   "id": "1b9b0e9b-a9f3-4985-97ff-26d667fe67d0",
   "metadata": {},
   "outputs": [],
   "source": []
  }
 ],
 "metadata": {
  "kernelspec": {
   "display_name": "Python 3 (ipykernel)",
   "language": "python",
   "name": "python3"
  },
  "language_info": {
   "codemirror_mode": {
    "name": "ipython",
    "version": 3
   },
   "file_extension": ".py",
   "mimetype": "text/x-python",
   "name": "python",
   "nbconvert_exporter": "python",
   "pygments_lexer": "ipython3",
   "version": "3.9.4"
  }
 },
 "nbformat": 4,
 "nbformat_minor": 5
}
