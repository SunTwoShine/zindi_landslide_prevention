{
 "cells": [
  {
   "cell_type": "code",
   "execution_count": null,
   "id": "4358f095-ff46-438b-a19b-923f25cdd126",
   "metadata": {},
   "outputs": [],
   "source": [
    "import pandas as pd\n",
    "import matplotlib.pyplot as plt\n",
    "import numpy as np\n",
    "\n",
    "from sklearn.model_selection import train_test_split\n",
    "from sklearn.preprocessing import StandardScaler\n",
    "from sklearn.metrics import f1_score, classification_report,confusion_matrix, ConfusionMatrixDisplay\n",
    "\n",
    "from sklearn.linear_model import LogisticRegression\n",
    "from sklearn.neighbors import KNeighborsClassifier\n",
    "from sklearn.svm import SVC\n",
    "from sklearn.tree import DecisionTreeClassifier\n",
    "\n",
    "from sklearn.ensemble import RandomForestClassifier, StackingClassifier\n",
    "\n",
    "from sklearn.model_selection import GridSearchCV"
   ]
  },
  {
   "cell_type": "markdown",
   "id": "6af74461-91ae-4317-8663-a146d8c53b23",
   "metadata": {},
   "source": [
    "## Preprocessing\n",
    "\n",
    "* log transformation of twi-feature\n",
    "* cos/sin transformation of asprect feature\n",
    "* selecting relevant columns\n",
    "* standard scaling"
   ]
  },
  {
   "cell_type": "code",
   "execution_count": null,
   "id": "028e71f9-032b-4536-8305-55aa65a14335",
   "metadata": {},
   "outputs": [],
   "source": [
    "# load data\n",
    "train = pd.read_csv('data/Train.csv')\n",
    "test = pd.read_csv('data/Test.csv')"
   ]
  },
  {
   "cell_type": "code",
   "execution_count": null,
   "id": "3d6868b4-d537-4313-8fc4-9dd313760b74",
   "metadata": {},
   "outputs": [],
   "source": [
    "# log-transform of columns\n",
    "def log_transform(df, column):\n",
    "    for col in df.columns:\n",
    "        if column in col:\n",
    "            result = np.where(df[col]>1.0e-5, df[col], 1.0e-5)\n",
    "            df[col+'_log'] = np.log(result)"
   ]
  },
  {
   "cell_type": "code",
   "execution_count": null,
   "id": "ae501b89-ba45-45da-a474-6c478585ffe9",
   "metadata": {},
   "outputs": [],
   "source": [
    "# using log_transform on twi columns of train and test set\n",
    "log_transform(train, 'twi')\n",
    "log_transform(test, 'twi')"
   ]
  },
  {
   "cell_type": "code",
   "execution_count": null,
   "id": "12d42de8-f1aa-4679-9824-93dfb2dff9d0",
   "metadata": {},
   "outputs": [],
   "source": [
    "# sine/cosine of angle-columns\n",
    "def angle_transform(df, column):\n",
    "    for col in df.columns:\n",
    "        if column in col:\n",
    "            df[col+'_sin'] = np.sin(np.deg2rad(df[col]))\n",
    "            df[col+'_cos'] = np.cos(np.deg2rad(df[col]))"
   ]
  },
  {
   "cell_type": "code",
   "execution_count": null,
   "id": "2e28f187-2825-4548-bca3-0ba5d9d66724",
   "metadata": {},
   "outputs": [],
   "source": [
    "# using angle_transform on aspect columns of train and test set\n",
    "angle_transform(train, 'aspect')\n",
    "angle_transform(test, 'aspect')"
   ]
  },
  {
   "cell_type": "code",
   "execution_count": null,
   "id": "f563c58c-b434-4072-af28-893a8dc6ff1f",
   "metadata": {},
   "outputs": [],
   "source": [
    "# select all columns of specific features\n",
    "selected_cols = []\n",
    "selected_features = ['elevation', 'slope', 'aspect_sin', 'aspect_cos',\n",
    "                     'placurv', 'procurv', 'lsfactor', 'twi_log', 'geology', 'sdoif']\n",
    "for col in train.columns:\n",
    "    for feature in selected_features:\n",
    "        if feature in col:\n",
    "            selected_cols.append(col)"
   ]
  },
  {
   "cell_type": "code",
   "execution_count": null,
   "id": "2612b57a-3236-4c96-9298-3a23fca9e73c",
   "metadata": {},
   "outputs": [],
   "source": [
    "# select columns used for x and y\n",
    "X = train[selected_cols]\n",
    "y = train.Label\n",
    "\n",
    "# Split data into train and validation sets with similar ratio of the label\n",
    "X_train, X_val, y_train, y_val = train_test_split(X,y,test_size=0.3, random_state=2022, stratify=y)"
   ]
  },
  {
   "cell_type": "code",
   "execution_count": null,
   "id": "ec422b68-645d-42d4-9ebc-e7c514eded7c",
   "metadata": {},
   "outputs": [],
   "source": [
    "# Scale feature values to similar value range\n",
    "sc = StandardScaler()\n",
    "X_train = sc.fit_transform(X_train)\n",
    "X_val = sc.transform(X_val)"
   ]
  },
  {
   "cell_type": "code",
   "execution_count": null,
   "id": "f7de5ed3-98ca-44f7-9127-3ee75e2396c2",
   "metadata": {},
   "outputs": [],
   "source": [
    "# Select columns for test set and scale feature values like in the training set\n",
    "X_test = test[selected_cols]\n",
    "X_test = sc.transform(X_test)"
   ]
  },
  {
   "cell_type": "markdown",
   "id": "4c0dde0e-8a89-497d-92eb-ff00de8f29ff",
   "metadata": {
    "tags": []
   },
   "source": [
    "## Confusion matrix"
   ]
  },
  {
   "cell_type": "code",
   "execution_count": null,
   "id": "e04ff520-60b2-4d88-98bc-002e58891a4f",
   "metadata": {},
   "outputs": [],
   "source": [
    "def plot_confusion_matrix(true, predicted, classifier):\n",
    "    \"\"\"\n",
    "    plot the confusion matrix for a classifier\n",
    "    Input:\n",
    "     true: actual values\n",
    "     predicted: predicted values with the classifier\n",
    "     classifier: classifier used for predictions\n",
    "    \"\"\"\n",
    "    cm = confusion_matrix(true, predicted, labels=classifier.classes_)\n",
    "    disp = ConfusionMatrixDisplay(confusion_matrix=cm, display_labels=classifier.classes_)\n",
    "    fig, ax = plt.subplots(figsize=(3,2))\n",
    "    disp.plot(ax=ax)\n",
    "    plt.show()"
   ]
  },
  {
   "cell_type": "code",
   "execution_count": null,
   "id": "840300c0-6983-4270-8df4-1f6ed445e84f",
   "metadata": {},
   "outputs": [],
   "source": [
    "def fit_clf_and_results(x_train, x_val, y_train, y_val, classifier):\n",
    "    \"\"\"\n",
    "    fit a classifier and print f1-score, classification report and confusion matrix\n",
    "    returns y_pred\n",
    "    Input:\n",
    "     x_train: data used for training the classifier\n",
    "     x_val: data used for validating the classifier\n",
    "     y_train: label of training data\n",
    "     y_val: label of validation data\n",
    "     classifier: a classifier from sklearn\n",
    "    \"\"\"\n",
    "    classifier.fit(x_train, y_train)\n",
    "\n",
    "    # Make predictions\n",
    "    y_pred = classifier.predict(x_val)\n",
    "\n",
    "    # Check the auc score of the model\n",
    "    print(f'{classifier} \\nF1 score on the X_val is: {f1_score(y_val, y_pred)}\\n')\n",
    "\n",
    "    # print classification report\n",
    "    print(classification_report(y_val, y_pred))\n",
    "    \n",
    "    plot_confusion_matrix(y_val, y_pred, classifier)\n",
    "    \n",
    "    return y_pred"
   ]
  },
  {
   "cell_type": "code",
   "execution_count": null,
   "id": "2456bcff-4d83-46f5-981d-461f44146a5e",
   "metadata": {
    "tags": []
   },
   "outputs": [],
   "source": [
    "log_test = LogisticRegression()\n",
    "y_pred_log_test = fit_clf_and_results(X_train, X_val, y_train, y_val, log_test)"
   ]
  },
  {
   "cell_type": "code",
   "execution_count": null,
   "id": "c886e17b-7d1f-494c-bfea-66e81f216caa",
   "metadata": {},
   "outputs": [],
   "source": [
    "y_pred_log_test"
   ]
  },
  {
   "cell_type": "code",
   "execution_count": null,
   "id": "b77b621b-0e61-43b8-80c2-fe56c0d7deed",
   "metadata": {},
   "outputs": [],
   "source": [
    "y_test_logreg = log_test.predict(X_test)\n",
    "y_test_logreg"
   ]
  },
  {
   "cell_type": "markdown",
   "id": "30c1d696-c606-415e-b183-b3a6201172d5",
   "metadata": {},
   "source": [
    "## Logistic regression (Baseline Model)"
   ]
  },
  {
   "cell_type": "code",
   "execution_count": null,
   "id": "228446c8-42dd-4db6-b004-9920c53f20f5",
   "metadata": {},
   "outputs": [],
   "source": [
    "# Train model\n",
    "logreg = LogisticRegression(class_weight='balanced', random_state=2022, max_iter=1000)\n",
    "y_pred_logreg = fit_clf_and_results(X_train, X_val, y_train, y_val, logreg)"
   ]
  },
  {
   "cell_type": "code",
   "execution_count": null,
   "id": "1b613cd9-c4d5-4266-a21a-d2d8d150300e",
   "metadata": {},
   "outputs": [],
   "source": [
    "y_test_logreg = logreg.predict(X_test)\n",
    "y_test_logreg"
   ]
  },
  {
   "cell_type": "markdown",
   "id": "c6a70252-30a2-4612-b5d3-1148cfff5ca4",
   "metadata": {},
   "source": [
    "## K-Nearest-Neighbors"
   ]
  },
  {
   "cell_type": "code",
   "execution_count": null,
   "id": "e94ad92a-86ad-4a35-87b8-9a7073d0bbb1",
   "metadata": {},
   "outputs": [],
   "source": [
    "# Train model\n",
    "knn = KNeighborsClassifier(n_neighbors=15, weights='distance', p=1)\n",
    "knn.fit(X_train, y_train)\n",
    "\n",
    "# Make predictions\n",
    "y_pred_knn = knn.predict(X_val)\n",
    "\n",
    "# Check the auc score of the model\n",
    "print(f'K-Nearest-Neighbor F1 score on the X_test is: {f1_score(y_val, y_pred_knn)}\\n')\n",
    "\n",
    "# print classification report\n",
    "print(classification_report(y_val, y_pred_knn))\n",
    "\n",
    "plot_confusion_matrix(y_val, y_pred_knn, knn)"
   ]
  },
  {
   "cell_type": "code",
   "execution_count": null,
   "id": "7953b68c-6308-49be-a461-ec11e1f9f40e",
   "metadata": {},
   "outputs": [],
   "source": [
    "y_test_knn = knn.predict(X_test)\n",
    "y_test_knn"
   ]
  },
  {
   "cell_type": "markdown",
   "id": "4642f432-db23-4d1e-ae4c-76ccac164aea",
   "metadata": {},
   "source": [
    "### Hyperparameter Tuning using Grid Search"
   ]
  },
  {
   "cell_type": "code",
   "execution_count": null,
   "id": "90e414b6-91cf-4130-ba0a-d1f090cb63a4",
   "metadata": {},
   "outputs": [],
   "source": [
    "parameters = {'n_neighbors':[4,6,8,12,15,20], 'p':[1, 2], 'weights':('uniform','distance')}\n",
    "knn_clf = KNeighborsClassifier()\n",
    "clf = GridSearchCV(knn_clf, parameters)\n",
    "clf.fit(X_train, y_train)"
   ]
  },
  {
   "cell_type": "code",
   "execution_count": null,
   "id": "8707f9c4-e88f-4ce5-b413-a38343c49dfa",
   "metadata": {},
   "outputs": [],
   "source": [
    "clf.best_params_"
   ]
  },
  {
   "cell_type": "code",
   "execution_count": null,
   "id": "1acda41f-fa06-4c33-a159-3e6e29f6b1db",
   "metadata": {
    "tags": []
   },
   "outputs": [],
   "source": [
    "clf.cv_results_"
   ]
  },
  {
   "cell_type": "markdown",
   "id": "fefca5cc-2186-4d2f-91f5-625a8a18c83d",
   "metadata": {},
   "source": [
    "## Support Vector Machine"
   ]
  },
  {
   "cell_type": "code",
   "execution_count": null,
   "id": "dfc8edae-310c-4bd9-912e-0b906fbf87df",
   "metadata": {},
   "outputs": [],
   "source": [
    "# Train model\n",
    "svm = SVC(class_weight='balanced', random_state=2022)\n",
    "svm.fit(X_train, y_train)\n",
    "\n",
    "# Make predictions\n",
    "y_pred_svm = svm.predict(X_val)\n",
    "\n",
    "# Check the auc score of the model\n",
    "print(f'Support Vector Machine F1 score on the X_test is: {f1_score(y_val, y_pred_svm)}\\n')\n",
    "\n",
    "# print classification report\n",
    "print(classification_report(y_val, y_pred_svm))\n",
    "\n",
    "plot_confusion_matrix(y_val, y_pred_svm, svm)"
   ]
  },
  {
   "cell_type": "code",
   "execution_count": null,
   "id": "2dcb7789-9e3d-40ed-930b-f5864a08af82",
   "metadata": {},
   "outputs": [],
   "source": [
    "y_test_svm = svm.predict(X_test)\n",
    "y_test_svm"
   ]
  },
  {
   "cell_type": "markdown",
   "id": "0094e33e-4035-4b5e-964d-680eabe49ada",
   "metadata": {},
   "source": [
    "### Hyperparameter Tuning using Grid Search"
   ]
  },
  {
   "cell_type": "code",
   "execution_count": null,
   "id": "bc808049-4f2d-4bf8-9962-1c8250723f82",
   "metadata": {},
   "outputs": [],
   "source": [
    "parameters = {'kernel':('poly', 'rbf', 'sigmoid'), 'C':[0.1, 0.5, 1, 2], 'class_weight':(None,'balanced')}\n",
    "SVC_clf = SVC()\n",
    "clf = GridSearchCV(SVC_clf, parameters)\n",
    "clf.fit(X_train, y_train)"
   ]
  },
  {
   "cell_type": "code",
   "execution_count": null,
   "id": "a387d266-6a52-48c9-a269-b963cefcb824",
   "metadata": {},
   "outputs": [],
   "source": [
    "clf.best_params_"
   ]
  },
  {
   "cell_type": "markdown",
   "id": "b5138cdf-e350-4799-93f1-082ef533e4b4",
   "metadata": {},
   "source": [
    "### SVM with tuned Threshold by saheedniyi"
   ]
  },
  {
   "cell_type": "code",
   "execution_count": null,
   "id": "c8226a9d-40a1-48d4-b495-4c82d9e3f9fd",
   "metadata": {},
   "outputs": [],
   "source": [
    "# Train model\n",
    "svm_proba = SVC(class_weight='balanced', probability=True, random_state=2022)\n",
    "svm_proba.fit(X_train, y_train)\n",
    "\n",
    "y_pred_proba_svm = pd.Series(svm_proba.predict_proba(X_val)[:,1])"
   ]
  },
  {
   "cell_type": "code",
   "execution_count": null,
   "id": "c5c73926-ebc6-449c-8511-f4742fc57c72",
   "metadata": {},
   "outputs": [],
   "source": [
    "def tune_threshold(proba,threshold):\n",
    "    if proba>threshold:\n",
    "        return 1\n",
    "    else:\n",
    "        return 0"
   ]
  },
  {
   "cell_type": "code",
   "execution_count": null,
   "id": "1f1cd8e7-b8f5-4d37-a3b1-6ff58d83f792",
   "metadata": {},
   "outputs": [],
   "source": [
    "threshold_range=np.arange(0,1,0.01)\n",
    "f1_scores=[]\n",
    "for i in threshold_range:\n",
    "    tuned_predictions=y_pred_proba_svm.apply(tune_threshold,args=(i,))\n",
    "    f1_scores.append(f1_score(tuned_predictions,y_val))"
   ]
  },
  {
   "cell_type": "code",
   "execution_count": null,
   "id": "e28d15b0-f529-4277-84e9-96f3323966d6",
   "metadata": {},
   "outputs": [],
   "source": [
    "plt.plot(threshold_range,f1_scores)"
   ]
  },
  {
   "cell_type": "code",
   "execution_count": null,
   "id": "88669b76-e2b6-4ad5-8758-fe5d6eac9dc4",
   "metadata": {},
   "outputs": [],
   "source": [
    "threshold_range=np.arange(0.35,0.45,0.001)\n",
    "f1_scores=[]\n",
    "for i in threshold_range:\n",
    "    tuned_predictions=y_pred_proba_svm.apply(tune_threshold,args=(i,))\n",
    "    f1_scores.append(f1_score(tuned_predictions,y_val))"
   ]
  },
  {
   "cell_type": "code",
   "execution_count": null,
   "id": "a9c398e4-6a72-4f15-9d07-5d7e1df39773",
   "metadata": {},
   "outputs": [],
   "source": [
    "plt.plot(threshold_range,f1_scores)"
   ]
  },
  {
   "cell_type": "code",
   "execution_count": null,
   "id": "1943ba32-8393-4602-a0e4-8183c274a25f",
   "metadata": {
    "tags": []
   },
   "outputs": [],
   "source": [
    "max_f1 = max(f1_scores)\n",
    "for t, f1 in zip(threshold_range, f1_scores):\n",
    "    if f1 == max_f1:\n",
    "        print(t, f1)"
   ]
  },
  {
   "cell_type": "code",
   "execution_count": null,
   "id": "17c4fd64-57b1-4cca-ae87-fe5c939cfa9b",
   "metadata": {},
   "outputs": [],
   "source": [
    "best_threshold = 0.385"
   ]
  },
  {
   "cell_type": "code",
   "execution_count": null,
   "id": "d6206f1a-c174-45ba-8d8c-8eaf6e4022b4",
   "metadata": {},
   "outputs": [],
   "source": [
    "plot_confusion_matrix(y_val, y_pred_proba_svm.apply(tune_threshold,args=(best_threshold,)), svm_proba)"
   ]
  },
  {
   "cell_type": "code",
   "execution_count": null,
   "id": "2253b006-d86d-4191-b73c-c9a7a1ec6b59",
   "metadata": {},
   "outputs": [],
   "source": [
    "sub=pd.DataFrame({\"Sample_ID\":test['Sample_ID'],\"Label\":svm_proba.predict_proba(X_test)[:,1]}).set_index(\"Sample_ID\")\n",
    "sub[\"Label\"]=sub[\"Label\"].apply(tune_threshold,args=(best_threshold,))\n",
    "\n",
    "sub.to_csv(\"data/submission_svm_tunedThreshold.csv\")"
   ]
  },
  {
   "cell_type": "markdown",
   "id": "9ad07825-11de-4815-b2f8-00861bd1d86c",
   "metadata": {},
   "source": [
    "## Ensemble Methods"
   ]
  },
  {
   "cell_type": "markdown",
   "id": "3a2b1542-c22f-48dd-84f5-87d406ed93e3",
   "metadata": {},
   "source": [
    "### Random Forest"
   ]
  },
  {
   "cell_type": "code",
   "execution_count": null,
   "id": "7df0a5b3-1e67-46bc-b1a1-edea635d8a8d",
   "metadata": {},
   "outputs": [],
   "source": [
    "# Train model\n",
    "rf = RandomForestClassifier(n_estimators=200, max_depth=10)\n",
    "rf.fit(X_train, y_train)\n",
    "\n",
    "# Make predictions\n",
    "y_pred_rf = rf.predict(X_val)\n",
    "\n",
    "# Check the auc score of the model\n",
    "print(f'Random Forest F1 score on the X_test is: {f1_score(y_val, y_pred_rf)}\\n')\n",
    "\n",
    "# print classification report\n",
    "print(classification_report(y_val, y_pred_rf))\n",
    "\n",
    "# Plot confusion matrix\n",
    "plot_confusion_matrix(y_val, y_pred_rf, rf)"
   ]
  },
  {
   "cell_type": "markdown",
   "id": "4b2245d4-692d-4402-b31d-48f3e78e3eb5",
   "metadata": {},
   "source": [
    "### Stacked Estimators"
   ]
  },
  {
   "cell_type": "code",
   "execution_count": null,
   "id": "8297a164-faeb-4c85-9d4f-20f57c780ce0",
   "metadata": {},
   "outputs": [],
   "source": [
    "estimators = [\n",
    "    ('rf', RandomForestClassifier(n_estimators=200, max_depth=10, random_state=2022)),\n",
    "    ('lr_bal', LogisticRegression(class_weight='balanced', random_state = 2022, max_iter=1000)),\n",
    "    #('lr_unbal', LogisticRegression(random_state = 42, max_iter=1000)),\n",
    "    ('knn', KNeighborsClassifier(n_neighbors=15, weights='distance', p=1)),\n",
    "    ('svm_bal', SVC(class_weight='balanced', random_state=2022)),\n",
    "    #('svm_unbal', SVC(random_state=42)),\n",
    "    ]\n",
    "\n",
    "final_est = LogisticRegression(class_weight='balanced', random_state = 42)\n",
    "\n",
    "stack_clf = StackingClassifier(estimators=estimators, final_estimator=final_est)\n",
    "stack_clf.fit(X_train, y_train)\n",
    "\n",
    "# Make predictions\n",
    "y_pred_stack_clf = stack_clf.predict(X_val)\n",
    "\n",
    "# Check the auc score of the model\n",
    "print(f'Stacking F1 score on the X_test is: {f1_score(y_val, y_pred_stack_clf)}\\n')\n",
    "\n",
    "# print classification report\n",
    "print(classification_report(y_val, y_pred_stack_clf))\n",
    "\n",
    "# Plot confusion matrix\n",
    "plot_confusion_matrix(y_val, y_pred_stack_clf, stack_clf)"
   ]
  },
  {
   "cell_type": "code",
   "execution_count": null,
   "id": "ac8e05ed-6f14-49d7-b1d8-1ab796b42e7b",
   "metadata": {},
   "outputs": [],
   "source": [
    "# Predict on test set\n",
    "y_test_stack = stack_clf.predict(X_test)\n",
    "y_test_stack"
   ]
  },
  {
   "cell_type": "markdown",
   "id": "4a67981f-45be-4b08-990c-be3c27ad17bc",
   "metadata": {},
   "source": [
    "## Submission file"
   ]
  },
  {
   "cell_type": "code",
   "execution_count": null,
   "id": "5d743dbe-564f-4106-913d-4b51d75b8264",
   "metadata": {},
   "outputs": [],
   "source": [
    "df_y_test = pd.DataFrame(y_test_stack, columns=['Label'])\n",
    "y_submission = pd.concat([test['Sample_ID'],df_y_test], axis=1)\n",
    "y_submission.to_csv('data/submission_stack_rf-knn-lr-bal-svm-bal.csv',index=False)"
   ]
  },
  {
   "cell_type": "markdown",
   "id": "3b24127c-999c-4b0a-911a-8b19190c07e0",
   "metadata": {},
   "source": [
    "## Analysing the Results of SVM"
   ]
  },
  {
   "cell_type": "code",
   "execution_count": null,
   "id": "8ef02f37-cb6d-4d66-9057-03f38ee646cc",
   "metadata": {},
   "outputs": [],
   "source": [
    "results_svm = pd.DataFrame(y_pred_svm, columns=['Label_pred']).set_index(y_val.index)"
   ]
  },
  {
   "cell_type": "code",
   "execution_count": null,
   "id": "1b566428-df7c-48bb-8545-2b1c8d7b66a8",
   "metadata": {
    "tags": []
   },
   "outputs": [],
   "source": [
    "X_val_df = pd.DataFrame(X_val, columns=selected_cols).set_index(y_val.index)"
   ]
  },
  {
   "cell_type": "code",
   "execution_count": null,
   "id": "b1b96c16-b857-4d9d-b21d-67d355690be3",
   "metadata": {},
   "outputs": [],
   "source": [
    "results_svm_full = pd.concat([X_val_df, y_val, results_svm], axis=1)"
   ]
  },
  {
   "cell_type": "code",
   "execution_count": null,
   "id": "61b90683-4773-41a3-82c9-2507298413c7",
   "metadata": {},
   "outputs": [],
   "source": [
    "conditions = [\n",
    "    results_svm_full['Label'].eq(0) & results_svm_full['Label_pred'].eq(0),\n",
    "    results_svm_full['Label'].eq(1) & results_svm_full['Label_pred'].eq(0),\n",
    "    results_svm_full['Label'].eq(0) & results_svm_full['Label_pred'].eq(1),\n",
    "    results_svm_full['Label'].eq(1) & results_svm_full['Label_pred'].eq(1)\n",
    "]\n",
    "\n",
    "choices = ['TN','FN','FP','TP']\n",
    "\n",
    "results_svm_full['Result'] = np.select(conditions, choices, default=0)"
   ]
  },
  {
   "cell_type": "code",
   "execution_count": null,
   "id": "7bdb5e0c-82d4-443a-84d2-1723af5fc0b7",
   "metadata": {},
   "outputs": [],
   "source": [
    "import seaborn as sns"
   ]
  },
  {
   "cell_type": "code",
   "execution_count": null,
   "id": "bdd73ad3-432e-4053-8a2b-8cdd20024587",
   "metadata": {},
   "outputs": [],
   "source": [
    "fig, axs = plt.subplots(3, 3, figsize = (13, 10))\n",
    "present_df = results_svm_full\n",
    "sns.histplot(present_df, x=\"1_elevation\", hue=\"Result\", ax=axs[0,0], element=\"step\", fill=False)\n",
    "sns.histplot(present_df, x=\"1_slope\", hue=\"Result\", ax=axs[0,1], element=\"step\", fill=False, legend=False)\n",
    "sns.histplot(present_df, x=\"1_aspect_sin\", hue=\"Result\", ax=axs[0,2], element=\"step\", fill=False, legend=False)\n",
    "sns.histplot(present_df, x=\"1_aspect_cos\", hue=\"Result\", ax=axs[0,2], element=\"step\", fill=False, legend=False)\n",
    "sns.histplot(present_df, x=\"1_placurv\", hue=\"Result\", ax=axs[1,0], element=\"step\", fill=False, legend=False)\n",
    "sns.histplot(present_df, x=\"1_procurv\", hue=\"Result\", ax=axs[1,1], element=\"step\", fill=False, legend=False)\n",
    "sns.histplot(present_df, x=\"1_lsfactor\", hue=\"Result\", ax=axs[1,2], element=\"step\", fill=False, legend=False)\n",
    "sns.histplot(present_df, x=\"1_twi_log\", hue=\"Result\", ax=axs[2,0], element=\"step\", fill=False, legend=False)\n",
    "sns.histplot(present_df, x=\"1_geology\", hue=\"Result\", ax=axs[2,1], multiple=\"dodge\", element=\"step\", fill=False, legend=False)\n",
    "sns.histplot(present_df, x=\"1_sdoif\", hue=\"Result\", ax=axs[2,2], element=\"step\", fill=False, legend=False)\n",
    "\n",
    "fig.tight_layout()\n",
    "plt.show()"
   ]
  },
  {
   "cell_type": "code",
   "execution_count": null,
   "id": "8ca5d4e2-8b31-4a96-b973-a44880fac2d3",
   "metadata": {},
   "outputs": [],
   "source": [
    "markers = {'TN': '.', 'TP': '.', 'FP': '<', 'FN': '>'}"
   ]
  },
  {
   "cell_type": "code",
   "execution_count": null,
   "id": "83dcf110-bb87-44e6-b62e-bb18e768f246",
   "metadata": {},
   "outputs": [],
   "source": [
    "sns.scatterplot(x='13_elevation', y='13_slope', data=results_svm_full, hue='Result', \n",
    "                style='Result', markers=markers);"
   ]
  },
  {
   "cell_type": "code",
   "execution_count": null,
   "id": "e1877a44-eacf-4da4-a698-1d0ffff5d39f",
   "metadata": {},
   "outputs": [],
   "source": [
    "sns.scatterplot(x='13_twi_log', y='13_lsfactor', data=results_svm_full, hue='Result', \n",
    "                style='Result', markers=markers);"
   ]
  },
  {
   "cell_type": "code",
   "execution_count": null,
   "id": "8773c23c-1b88-4dde-ba8e-f1551c0bdee5",
   "metadata": {},
   "outputs": [],
   "source": [
    "sns.scatterplot(x='13_placurv', y='13_sdoif', data=results_svm_full, hue='Result', \n",
    "                style='Result', markers=markers);"
   ]
  },
  {
   "cell_type": "code",
   "execution_count": null,
   "id": "cc4527d9-63ce-45bd-b58c-b94ac5b3a981",
   "metadata": {},
   "outputs": [],
   "source": []
  }
 ],
 "metadata": {
  "kernelspec": {
   "display_name": "Python 3 (ipykernel)",
   "language": "python",
   "name": "python3"
  },
  "language_info": {
   "codemirror_mode": {
    "name": "ipython",
    "version": 3
   },
   "file_extension": ".py",
   "mimetype": "text/x-python",
   "name": "python",
   "nbconvert_exporter": "python",
   "pygments_lexer": "ipython3",
   "version": "3.9.4"
  }
 },
 "nbformat": 4,
 "nbformat_minor": 5
}
