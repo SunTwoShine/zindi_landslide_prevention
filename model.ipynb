{
 "cells": [
  {
   "cell_type": "code",
   "execution_count": null,
   "id": "4358f095-ff46-438b-a19b-923f25cdd126",
   "metadata": {},
   "outputs": [],
   "source": [
    "import pandas as pd\n",
    "import matplotlib.pyplot as plt\n",
    "import numpy as np\n",
    "\n",
    "from sklearn.model_selection import train_test_split\n",
    "from sklearn.preprocessing import StandardScaler\n",
    "from sklearn.metrics import f1_score, classification_report,confusion_matrix, ConfusionMatrixDisplay, roc_curve, roc_auc_score\n",
    "\n",
    "from sklearn.linear_model import LogisticRegression\n",
    "from sklearn.neighbors import KNeighborsClassifier\n",
    "from sklearn.svm import SVC\n",
    "from sklearn.tree import DecisionTreeClassifier"
   ]
  },
  {
   "cell_type": "markdown",
   "id": "6af74461-91ae-4317-8663-a146d8c53b23",
   "metadata": {},
   "source": [
    "## Preprocessing\n",
    "\n",
    "* log transformation of twi-feature\n",
    "* cos/sin transformation of asprect feature\n",
    "* selecting relevant columns\n",
    "* standard scaling"
   ]
  },
  {
   "cell_type": "code",
   "execution_count": null,
   "id": "028e71f9-032b-4536-8305-55aa65a14335",
   "metadata": {},
   "outputs": [],
   "source": [
    "train = pd.read_csv('data/Train.csv')\n",
    "test = pd.read_csv('data/Test.csv')"
   ]
  },
  {
   "cell_type": "code",
   "execution_count": null,
   "id": "3d6868b4-d537-4313-8fc4-9dd313760b74",
   "metadata": {},
   "outputs": [],
   "source": [
    "# log-transform of columns\n",
    "def log_transform(df, column):\n",
    "    for col in df.columns:\n",
    "        if column in col:\n",
    "            result = np.where(df[col]>1.0e-5, df[col], 1.0e-5)\n",
    "            df[col+'_log'] = np.log(result)"
   ]
  },
  {
   "cell_type": "code",
   "execution_count": null,
   "id": "ae501b89-ba45-45da-a474-6c478585ffe9",
   "metadata": {},
   "outputs": [],
   "source": [
    "# using log_transform_twi\n",
    "log_transform(train, 'twi')\n",
    "log_transform(test, 'twi')"
   ]
  },
  {
   "cell_type": "code",
   "execution_count": null,
   "id": "12d42de8-f1aa-4679-9824-93dfb2dff9d0",
   "metadata": {},
   "outputs": [],
   "source": [
    "# sine/cosine of angle-columns\n",
    "def angle_transform(df, column):\n",
    "    for col in df.columns:\n",
    "        if column in col:\n",
    "            df[col+'_sin'] = np.sin(np.deg2rad(df[col]))\n",
    "            df[col+'_cos'] = np.cos(np.deg2rad(df[col]))"
   ]
  },
  {
   "cell_type": "code",
   "execution_count": null,
   "id": "2e28f187-2825-4548-bca3-0ba5d9d66724",
   "metadata": {},
   "outputs": [],
   "source": [
    "angle_transform(train, 'aspect')\n",
    "angle_transform(test, 'aspect')"
   ]
  },
  {
   "cell_type": "code",
   "execution_count": null,
   "id": "f563c58c-b434-4072-af28-893a8dc6ff1f",
   "metadata": {},
   "outputs": [],
   "source": [
    "# select all columns of specific features\n",
    "selected_cols = []\n",
    "selected_features = ['elevation', 'slope', 'aspect_sin', 'aspect_cos',\n",
    "                     'placurv', 'procurv', 'lsfactor', 'twi_log', 'geology', 'sdoif']\n",
    "for col in train.columns:\n",
    "    for feature in selected_features:\n",
    "        if feature in col:\n",
    "            selected_cols.append(col)"
   ]
  },
  {
   "cell_type": "code",
   "execution_count": null,
   "id": "2612b57a-3236-4c96-9298-3a23fca9e73c",
   "metadata": {},
   "outputs": [],
   "source": [
    "# select columns used for x and y\n",
    "X = train[selected_cols]\n",
    "y = train.Label\n",
    "\n",
    "# Split data into train and test sets\n",
    "X_train, X_val, y_train, y_val = train_test_split(X,y,test_size=0.3, random_state=2022, stratify=y)"
   ]
  },
  {
   "cell_type": "code",
   "execution_count": null,
   "id": "ec422b68-645d-42d4-9ebc-e7c514eded7c",
   "metadata": {},
   "outputs": [],
   "source": [
    "sc = StandardScaler()\n",
    "X_train = sc.fit_transform(X_train)\n",
    "X_val = sc.transform(X_val)"
   ]
  },
  {
   "cell_type": "code",
   "execution_count": null,
   "id": "f7de5ed3-98ca-44f7-9127-3ee75e2396c2",
   "metadata": {},
   "outputs": [],
   "source": [
    "X_test = test[selected_cols]\n",
    "X_test = sc.transform(X_test)"
   ]
  },
  {
   "cell_type": "markdown",
   "id": "30c1d696-c606-415e-b183-b3a6201172d5",
   "metadata": {},
   "source": [
    "## Logistic regression"
   ]
  },
  {
   "cell_type": "code",
   "execution_count": null,
   "id": "4dc2d700-b2de-48e4-bf07-a253728fb588",
   "metadata": {},
   "outputs": [],
   "source": [
    "# Train model\n",
    "logreg = LogisticRegression(class_weight='balanced', random_state=2022, max_iter=1000)\n",
    "logreg.fit(X_train, y_train)\n",
    "\n",
    "# Make predictions\n",
    "y_pred_logreg = logreg.predict(X_val)\n",
    "\n",
    "# Check the auc score of the model\n",
    "print(f'Logistic Regression F1 score on the X_test is: {f1_score(y_val, y_pred_logreg)}\\n')\n",
    "\n",
    "# print classification report\n",
    "print(classification_report(y_val, y_pred_logreg))"
   ]
  },
  {
   "cell_type": "code",
   "execution_count": null,
   "id": "fe90fbea-23b0-4f6d-83c7-0389aeeac0c8",
   "metadata": {},
   "outputs": [],
   "source": [
    "# Confusion matrix\n",
    "cm_logreg = confusion_matrix(y_val, y_pred_logreg, labels=logreg.classes_)\n",
    "disp_logreg = ConfusionMatrixDisplay(confusion_matrix=cm_logreg, display_labels=logreg.classes_)\n",
    "fig, ax = plt.subplots(figsize=(3,2))\n",
    "disp_logreg.plot(ax=ax)\n",
    "plt.show()"
   ]
  },
  {
   "cell_type": "code",
   "execution_count": null,
   "id": "baaa17fe-cac9-4619-a1c0-307a7572287c",
   "metadata": {},
   "outputs": [],
   "source": [
    "y_pred_proba_logreg = logreg.predict_proba(X_val)\n",
    "y_val_array = y_val.to_numpy()\n",
    "fpr, tpr, _ = roc_curve(y_val_array,  y_pred_proba_logreg[:,1])\n",
    "auc = roc_auc_score(y_val_array, y_pred_proba_logreg[:,1])\n",
    "plt.plot(fpr,tpr,label=\"data 1, auc=\"+str(auc))\n",
    "plt.legend(loc=4)\n",
    "plt.show()"
   ]
  },
  {
   "cell_type": "code",
   "execution_count": null,
   "id": "1b613cd9-c4d5-4266-a21a-d2d8d150300e",
   "metadata": {},
   "outputs": [],
   "source": [
    "y_test_logreg = logreg.predict(X_test)\n",
    "y_test_logreg"
   ]
  },
  {
   "cell_type": "markdown",
   "id": "c6a70252-30a2-4612-b5d3-1148cfff5ca4",
   "metadata": {},
   "source": [
    "## K-Nearest-Neighbours"
   ]
  },
  {
   "cell_type": "code",
   "execution_count": null,
   "id": "e94ad92a-86ad-4a35-87b8-9a7073d0bbb1",
   "metadata": {},
   "outputs": [],
   "source": [
    "# Train model\n",
    "knn = KNeighborsClassifier(n_neighbors=15, weights='distance', p=1)\n",
    "knn.fit(X_train, y_train)\n",
    "\n",
    "# Make predictions\n",
    "y_pred_knn = knn.predict(X_val)\n",
    "\n",
    "# Check the auc score of the model\n",
    "print(f'K-Nearest-Neighbor F1 score on the X_test is: {f1_score(y_val, y_pred_knn)}\\n')\n",
    "\n",
    "# print classification report\n",
    "print(classification_report(y_val, y_pred_knn))"
   ]
  },
  {
   "cell_type": "code",
   "execution_count": null,
   "id": "36083a66-55b8-4778-870c-1b23924eaf0f",
   "metadata": {},
   "outputs": [],
   "source": [
    "# Confusion matrix\n",
    "cm_knn = confusion_matrix(y_val, y_pred_knn, labels=knn.classes_)\n",
    "disp_knn = ConfusionMatrixDisplay(confusion_matrix=cm_knn, display_labels=knn.classes_)\n",
    "fig, ax = plt.subplots(figsize=(3,2))\n",
    "disp_knn.plot(ax=ax)\n",
    "plt.show()"
   ]
  },
  {
   "cell_type": "code",
   "execution_count": null,
   "id": "7953b68c-6308-49be-a461-ec11e1f9f40e",
   "metadata": {},
   "outputs": [],
   "source": [
    "y_test_knn = knn.predict(X_test)\n",
    "y_test_knn"
   ]
  },
  {
   "cell_type": "code",
   "execution_count": null,
   "id": "1ec0934b-a787-40d3-b367-37e3fcaed334",
   "metadata": {},
   "outputs": [],
   "source": [
    "from sklearn.model_selection import GridSearchCV"
   ]
  },
  {
   "cell_type": "code",
   "execution_count": null,
   "id": "90e414b6-91cf-4130-ba0a-d1f090cb63a4",
   "metadata": {},
   "outputs": [],
   "source": [
    "parameters = {'n_neighbors':[4,6,8,12,15,20], 'p':[1, 2], 'weights':('uniform','distance')}\n",
    "knn_clf = KNeighborsClassifier()\n",
    "clf = GridSearchCV(knn_clf, parameters)\n",
    "clf.fit(X_train, y_train)"
   ]
  },
  {
   "cell_type": "code",
   "execution_count": null,
   "id": "8707f9c4-e88f-4ce5-b413-a38343c49dfa",
   "metadata": {},
   "outputs": [],
   "source": [
    "clf.best_params_"
   ]
  },
  {
   "cell_type": "code",
   "execution_count": null,
   "id": "1acda41f-fa06-4c33-a159-3e6e29f6b1db",
   "metadata": {
    "tags": []
   },
   "outputs": [],
   "source": [
    "clf.cv_results_"
   ]
  },
  {
   "cell_type": "markdown",
   "id": "fefca5cc-2186-4d2f-91f5-625a8a18c83d",
   "metadata": {},
   "source": [
    "## Support Vector Machine"
   ]
  },
  {
   "cell_type": "code",
   "execution_count": null,
   "id": "dfc8edae-310c-4bd9-912e-0b906fbf87df",
   "metadata": {},
   "outputs": [],
   "source": [
    "# Train model\n",
    "svm = SVC(class_weight='balanced', random_state=2022)\n",
    "svm.fit(X_train, y_train)\n",
    "\n",
    "# Make predictions\n",
    "y_pred_svm = svm.predict(X_val)\n",
    "\n",
    "# Check the auc score of the model\n",
    "print(f'Support Vector Machine F1 score on the X_test is: {f1_score(y_val, y_pred_svm)}\\n')\n",
    "\n",
    "# print classification report\n",
    "print(classification_report(y_val, y_pred_svm))"
   ]
  },
  {
   "cell_type": "code",
   "execution_count": null,
   "id": "698f61ce-545a-42f1-a6d6-f89189466c65",
   "metadata": {},
   "outputs": [],
   "source": [
    "# Confusion matrix\n",
    "cm_svm = confusion_matrix(y_val, y_pred_svm, labels=svm.classes_)\n",
    "disp_svm = ConfusionMatrixDisplay(confusion_matrix=cm_svm, display_labels=svm.classes_)\n",
    "fig, ax = plt.subplots(figsize=(3,2))\n",
    "disp_svm.plot(ax=ax)\n",
    "plt.show()\n",
    "#155\n",
    "#453"
   ]
  },
  {
   "cell_type": "code",
   "execution_count": null,
   "id": "2dcb7789-9e3d-40ed-930b-f5864a08af82",
   "metadata": {},
   "outputs": [],
   "source": [
    "y_test_svm = svm.predict(X_test)\n",
    "y_test_svm"
   ]
  },
  {
   "cell_type": "code",
   "execution_count": null,
   "id": "bc808049-4f2d-4bf8-9962-1c8250723f82",
   "metadata": {},
   "outputs": [],
   "source": [
    "parameters = {'kernel':('poly', 'rbf', 'sigmoid'), 'C':[0.1, 0.5, 1, 2], 'class_weight':(None,'balanced')}\n",
    "SVC_clf = SVC()\n",
    "clf = GridSearchCV(SVC_clf, parameters)\n",
    "clf.fit(X_train, y_train)"
   ]
  },
  {
   "cell_type": "code",
   "execution_count": null,
   "id": "a387d266-6a52-48c9-a269-b963cefcb824",
   "metadata": {},
   "outputs": [],
   "source": [
    "clf.best_params_"
   ]
  },
  {
   "cell_type": "markdown",
   "id": "b6312302-968e-47cf-a8fd-8f357b02f5f4",
   "metadata": {},
   "source": [
    "## Decision Tree"
   ]
  },
  {
   "cell_type": "code",
   "execution_count": null,
   "id": "a03c860c-427d-4a0f-a18e-22411c41dbce",
   "metadata": {},
   "outputs": [],
   "source": [
    "# Train model\n",
    "dtree = DecisionTreeClassifier()\n",
    "dtree.fit(X_train, y_train)\n",
    "\n",
    "# Make predictions\n",
    "y_pred_dtree = dtree.predict(X_val)\n",
    "\n",
    "# Check the auc score of the model\n",
    "print(f'Decision Tree F1 score on the X_test is: {f1_score(y_val, y_pred_dtree)}\\n')\n",
    "\n",
    "# print classification report\n",
    "print(classification_report(y_val, y_pred_dtree))"
   ]
  },
  {
   "cell_type": "code",
   "execution_count": null,
   "id": "182ab0e1-d79c-41e9-a49d-0d9685e39a02",
   "metadata": {},
   "outputs": [],
   "source": [
    "# Confusion matrix\n",
    "cm_dtree = confusion_matrix(y_val, y_pred_dtree, labels=dtree.classes_)\n",
    "disp_dtree = ConfusionMatrixDisplay(confusion_matrix=cm_dtree, display_labels=dtree.classes_)\n",
    "fig, ax = plt.subplots(figsize=(3,2))\n",
    "disp_dtree.plot(ax=ax)\n",
    "plt.show()"
   ]
  },
  {
   "cell_type": "markdown",
   "id": "9ad07825-11de-4815-b2f8-00861bd1d86c",
   "metadata": {},
   "source": [
    "## Ensembles"
   ]
  },
  {
   "cell_type": "code",
   "execution_count": null,
   "id": "7451363b-7a8a-4e15-ad21-cfdc00e5fe68",
   "metadata": {},
   "outputs": [],
   "source": [
    "from sklearn.ensemble import RandomForestClassifier, StackingClassifier"
   ]
  },
  {
   "cell_type": "code",
   "execution_count": null,
   "id": "7df0a5b3-1e67-46bc-b1a1-edea635d8a8d",
   "metadata": {},
   "outputs": [],
   "source": [
    "# Train model\n",
    "rf = RandomForestClassifier(n_estimators=200, max_depth=10)\n",
    "rf.fit(X_train, y_train)\n",
    "\n",
    "# Make predictions\n",
    "y_pred_rf = rf.predict(X_val)\n",
    "\n",
    "# Check the auc score of the model\n",
    "print(f'Random Forest F1 score on the X_test is: {f1_score(y_val, y_pred_rf)}\\n')\n",
    "\n",
    "# print classification report\n",
    "print(classification_report(y_val, y_pred_rf))"
   ]
  },
  {
   "cell_type": "code",
   "execution_count": null,
   "id": "f9a59c3d-2c91-4739-8557-9c344f81e06a",
   "metadata": {},
   "outputs": [],
   "source": [
    "# Confusion matrix\n",
    "cm_rf = confusion_matrix(y_val, y_pred_rf, labels=rf.classes_)\n",
    "disp_rf = ConfusionMatrixDisplay(confusion_matrix=cm_rf, display_labels=rf.classes_)\n",
    "fig, ax = plt.subplots(figsize=(3,2))\n",
    "disp_rf.plot(ax=ax)\n",
    "plt.show()"
   ]
  },
  {
   "cell_type": "code",
   "execution_count": null,
   "id": "8297a164-faeb-4c85-9d4f-20f57c780ce0",
   "metadata": {},
   "outputs": [],
   "source": [
    "estimators = [\n",
    "    ('rf', RandomForestClassifier(n_estimators=200, max_depth=10, random_state=2022)),\n",
    "    ('lr_bal', LogisticRegression(class_weight='balanced', random_state = 2022, max_iter=1000)),\n",
    "    #('lr_unbal', LogisticRegression(random_state = 42, max_iter=1000)),\n",
    "    ('knn', KNeighborsClassifier(n_neighbors=15, weights='distance', p=1)),\n",
    "    ('svm_bal', SVC(class_weight='balanced', random_state=2022)),\n",
    "    #('svm_unbal', SVC(random_state=42)),\n",
    "    ]\n",
    "\n",
    "final_est = LogisticRegression(class_weight='balanced', random_state = 42)\n",
    "\n",
    "stack_clf = StackingClassifier(estimators=estimators, final_estimator=final_est)\n",
    "stack_clf.fit(X_train, y_train)\n",
    "\n",
    "# Make predictions\n",
    "y_pred_stack_clf = stack_clf.predict(X_val)\n",
    "\n",
    "# Check the auc score of the model\n",
    "print(f'Stacking F1 score on the X_test is: {f1_score(y_val, y_pred_stack_clf)}\\n')\n",
    "\n",
    "# print classification report\n",
    "print(classification_report(y_val, y_pred_stack_clf))"
   ]
  },
  {
   "cell_type": "code",
   "execution_count": null,
   "id": "67b017b9-0a57-498f-9cc4-dd5689d23993",
   "metadata": {},
   "outputs": [],
   "source": [
    "# Confusion matrix\n",
    "cm_stack_clf = confusion_matrix(y_val, y_pred_stack_clf, labels=stack_clf.classes_)\n",
    "disp_stack_clf = ConfusionMatrixDisplay(confusion_matrix=cm_stack_clf, display_labels=stack_clf.classes_)\n",
    "fig, ax = plt.subplots(figsize=(3,2))\n",
    "disp_stack_clf.plot(ax=ax)\n",
    "plt.show()"
   ]
  },
  {
   "cell_type": "code",
   "execution_count": null,
   "id": "ac8e05ed-6f14-49d7-b1d8-1ab796b42e7b",
   "metadata": {},
   "outputs": [],
   "source": [
    "y_test_stack = stack_clf.predict(X_test)\n",
    "y_test_stack"
   ]
  },
  {
   "cell_type": "markdown",
   "id": "4c0dde0e-8a89-497d-92eb-ff00de8f29ff",
   "metadata": {},
   "source": [
    "# Confusion matrix"
   ]
  },
  {
   "cell_type": "code",
   "execution_count": null,
   "id": "020f76e1-baba-4af7-b420-6e8f7be1e2e2",
   "metadata": {},
   "outputs": [],
   "source": [
    "cm_stack_clf = confusion_matrix(y_val, y_pred_stack_clf, labels=stack_clf.classes_)\n",
    "disp_stack_clf = ConfusionMatrixDisplay(confusion_matrix=cm_stack_clf, display_labels=stack_clf.classes_)\n",
    "fig, ax = plt.subplots(figsize=(3,2))\n",
    "disp_stack_clf.plot(ax=ax)\n",
    "plt.show()"
   ]
  },
  {
   "cell_type": "markdown",
   "id": "4a67981f-45be-4b08-990c-be3c27ad17bc",
   "metadata": {},
   "source": [
    "## Submission file"
   ]
  },
  {
   "cell_type": "code",
   "execution_count": null,
   "id": "5d743dbe-564f-4106-913d-4b51d75b8264",
   "metadata": {},
   "outputs": [],
   "source": [
    "df_y_test = pd.DataFrame(y_test_stack, columns=['Label'])\n",
    "y_submission = pd.concat([test['Sample_ID'],df_y_test], axis=1)\n",
    "y_submission.to_csv('data/submission_stack_rf-knn-lr-bal-svm-bal.csv',index=False)"
   ]
  },
  {
   "cell_type": "code",
   "execution_count": null,
   "id": "e17af383-8081-4cbe-b3d3-d3b29f531a25",
   "metadata": {},
   "outputs": [],
   "source": []
  }
 ],
 "metadata": {
  "kernelspec": {
   "display_name": "Python 3 (ipykernel)",
   "language": "python",
   "name": "python3"
  },
  "language_info": {
   "codemirror_mode": {
    "name": "ipython",
    "version": 3
   },
   "file_extension": ".py",
   "mimetype": "text/x-python",
   "name": "python",
   "nbconvert_exporter": "python",
   "pygments_lexer": "ipython3",
   "version": "3.9.4"
  }
 },
 "nbformat": 4,
 "nbformat_minor": 5
}
