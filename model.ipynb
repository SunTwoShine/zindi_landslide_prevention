{
 "cells": [
  {
   "cell_type": "code",
   "execution_count": null,
   "id": "4358f095-ff46-438b-a19b-923f25cdd126",
   "metadata": {},
   "outputs": [],
   "source": [
    "import pandas as pd\n",
    "import matplotlib.pyplot as plt\n",
    "import numpy as np\n",
    "from sklearn.model_selection import train_test_split\n",
    "from sklearn.metrics import f1_score, classification_report,confusion_matrix, ConfusionMatrixDisplay, roc_curve, roc_auc_score\n",
    "from sklearn.linear_model import LogisticRegression\n",
    "from sklearn.preprocessing import StandardScaler"
   ]
  },
  {
   "cell_type": "code",
   "execution_count": null,
   "id": "028e71f9-032b-4536-8305-55aa65a14335",
   "metadata": {},
   "outputs": [],
   "source": [
    "train = pd.read_csv('data/Train.csv')"
   ]
  },
  {
   "cell_type": "code",
   "execution_count": null,
   "id": "3d6868b4-d537-4313-8fc4-9dd313760b74",
   "metadata": {},
   "outputs": [],
   "source": [
    "# log-transform of twi columns\n",
    "for col in train.columns:\n",
    "    if 'twi' in col:\n",
    "        train[col+'_log'] = np.log(train[col])"
   ]
  },
  {
   "cell_type": "code",
   "execution_count": null,
   "id": "f563c58c-b434-4072-af28-893a8dc6ff1f",
   "metadata": {},
   "outputs": [],
   "source": [
    "# select all columns of specific features\n",
    "selected_cols = []\n",
    "selected_features = ['slope', 'procurv', 'twi_log', 'geology', 'sdoif']\n",
    "for col in train.columns:\n",
    "    for feature in selected_features:\n",
    "        if feature in col:\n",
    "            selected_cols.append(col)"
   ]
  },
  {
   "cell_type": "code",
   "execution_count": null,
   "id": "2612b57a-3236-4c96-9298-3a23fca9e73c",
   "metadata": {},
   "outputs": [],
   "source": [
    "# select columns used for x and y\n",
    "X = train[selected_cols]\n",
    "y = train.Label\n",
    "\n",
    "# Split data into train and test sets\n",
    "X_train, X_val, y_train, y_val = train_test_split(X,y,test_size=0.3, random_state=2022, stratify=y)"
   ]
  },
  {
   "cell_type": "code",
   "execution_count": null,
   "id": "ec422b68-645d-42d4-9ebc-e7c514eded7c",
   "metadata": {},
   "outputs": [],
   "source": [
    "sc = StandardScaler()\n",
    "X_train = sc.fit_transform(X_train)\n",
    "X_val = sc.transform(X_val)"
   ]
  },
  {
   "cell_type": "code",
   "execution_count": null,
   "id": "4dc2d700-b2de-48e4-bf07-a253728fb588",
   "metadata": {},
   "outputs": [],
   "source": [
    "# Train model\n",
    "model = LogisticRegression(random_state = 2022, max_iter=1000)\n",
    "model.fit(X_train, y_train)\n",
    "\n",
    "# Make predictions\n",
    "y_pred = model.predict(X_val)\n",
    "\n",
    "# Check the auc score of the model\n",
    "print(f'Logistic Regression F1 score on the X_test is: {f1_score(y_val, y_pred)}\\n')\n",
    "\n",
    "# print classification report\n",
    "print(classification_report(y_val, y_pred))"
   ]
  },
  {
   "cell_type": "code",
   "execution_count": null,
   "id": "fe90fbea-23b0-4f6d-83c7-0389aeeac0c8",
   "metadata": {},
   "outputs": [],
   "source": [
    "# Confusion matrix\n",
    "cm = confusion_matrix(y_val, y_pred, labels=model.classes_)\n",
    "disp = ConfusionMatrixDisplay(confusion_matrix=cm, display_labels=model.classes_)\n",
    "fig, ax = plt.subplots(figsize=(15,7))\n",
    "disp.plot(ax=ax)\n",
    "plt.show()"
   ]
  },
  {
   "cell_type": "code",
   "execution_count": null,
   "id": "baaa17fe-cac9-4619-a1c0-307a7572287c",
   "metadata": {},
   "outputs": [],
   "source": [
    "y_pred_proba = model.predict_proba(X_val)\n",
    "y_val_array = y_val.to_numpy()\n",
    "fpr, tpr, _ = roc_curve(y_val_array,  y_pred_proba[:,1])\n",
    "auc = roc_auc_score(y_val_array, y_pred_proba[:,1])\n",
    "plt.plot(fpr,tpr,label=\"data 1, auc=\"+str(auc))\n",
    "plt.legend(loc=4)\n",
    "plt.show()"
   ]
  },
  {
   "cell_type": "code",
   "execution_count": null,
   "id": "1b613cd9-c4d5-4266-a21a-d2d8d150300e",
   "metadata": {},
   "outputs": [],
   "source": []
  }
 ],
 "metadata": {
  "kernelspec": {
   "display_name": "Python 3 (ipykernel)",
   "language": "python",
   "name": "python3"
  },
  "language_info": {
   "codemirror_mode": {
    "name": "ipython",
    "version": 3
   },
   "file_extension": ".py",
   "mimetype": "text/x-python",
   "name": "python",
   "nbconvert_exporter": "python",
   "pygments_lexer": "ipython3",
   "version": "3.9.4"
  }
 },
 "nbformat": 4,
 "nbformat_minor": 5
}
